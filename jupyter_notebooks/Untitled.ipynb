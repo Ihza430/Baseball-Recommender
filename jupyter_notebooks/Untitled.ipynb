{
 "cells": [
  {
   "cell_type": "code",
   "execution_count": null,
   "id": "79baf408-1b40-477b-ac6b-1c4c646817c4",
   "metadata": {},
   "outputs": [],
   "source": [
    " # Instantiate MSE values at 0.\n",
    "        rmse_pa = 0\n",
    "        rmse_ab = 0\n",
    "        rmse_r = 0\n",
    "        rmse_h = 0\n",
    "        rmse_2b = 0\n",
    "        rmse_3b = 0\n",
    "        rmse_hr = 0\n",
    "        rmse_rbi = 0\n",
    "        rmse_bb = 0\n",
    "        rmse_so = 0\n",
    "        rmse_avg = 0\n",
    "        rmse_obp = 0\n",
    "        rmse_slg = 0\n",
    "        rmse_ops = 0\n",
    "\n",
    "        # Loop through each forecasted time point.\n",
    "        for time in range(len(test)):\n",
    "\n",
    "            # Calculate (expected - observed) ** 2 and add to MSE.\n",
    "            rmse_pa+= (forecast[time][0] - test.values[time][0]) ** 2\n",
    "            rmse_ab+= (forecast[time][1] - test.values[time][1]) ** 2\n",
    "            rmse_r+= (forecast[time][2] - test.values[time][2]) ** 2\n",
    "            rmse_h+= (forecast[time][2] - test.values[time][3]) ** 2\n",
    "            rmse_2b+= (forecast[time][2] - test.values[time][4]) ** 2\n",
    "            rmse_3b+= (forecast[time][2] - test.values[time][5]) ** 2\n",
    "            rmse_hr+= (forecast[time][2] - test.values[time][6]) ** 2\n",
    "            rmse_rbi+= (forecast[time][2] - test.values[time][7]) ** 2\n",
    "            rmse_bb+= (forecast[time][2] - test.values[time][8]) ** 2\n",
    "            rmse_so+= (forecast[time][2] - test.values[time][9]) ** 2\n",
    "            rmse_avg+= (forecast[time][2] - test.values[time][10]) ** 2\n",
    "            rmse_obp+= (forecast[time][2] - test.values[time][11]) ** 2\n",
    "            rmse_slg+= (forecast[time][2] - test.values[time][12]) ** 2\n",
    "            rmse_ops+= (forecast[time][2] - test.values[time][13]) ** 2\n",
    "\n",
    "\n",
    "        # Divide SSE to get MSE.\n",
    "\n",
    "        rmse_pa /= len(test)\n",
    "        rmse_ab /= len(test)\n",
    "        rmse_r /= len(test)\n",
    "        rmse_h /= len(test)\n",
    "        rmse_2b /= len(test)\n",
    "        rmse_3b /= len(test)\n",
    "        rmse_hr /= len(test)\n",
    "        rmse_rbi /= len(test)\n",
    "        rmse_bb /= len(test)\n",
    "        rmse_so /= len(test)\n",
    "        rmse_avg /= len(test)\n",
    "        rmse_obp /= len(test)\n",
    "        rmse_slg /= len(test)\n",
    "        rmse_ops /= len(test)\n",
    "\n",
    "        #square root to rmse\n",
    "\n",
    "        np.sqrt(rmse_pa) \n",
    "        np.sqrt(rmse_ab)\n",
    "        np.sqrt(rmse_r)\n",
    "        np.sqrt(rmse_h)\n",
    "        np.sqrt(rmse_2b)\n",
    "        np.sqrt(rmse_3b)\n",
    "        np.sqrt(rmse_hr)\n",
    "        np.sqrt(rmse_rbi)\n",
    "        np.sqrt(rmse_bb)\n",
    "        np.sqrt(rmse_so)\n",
    "        np.sqrt(rmse_avg)\n",
    "        np.sqrt(rmse_obp)\n",
    "        np.sqrt(rmse_slg)\n",
    "        np.sqrt(rmse_ops)\n",
    "\n",
    "        # Generate output. \n",
    "        print(f'{first} {last}:')\n",
    "        print(f'The test RMSE on the pa is: {round(rmse_pa, 4)}')\n",
    "        print(f'The test RMSE on the ab is: {round(rmse_ab, 4)}')\n",
    "        print(f'The test RMSE on the r is: {round(rmse_r, 4)}')\n",
    "        print(f'The test RMSE on the h is: {round(rmse_h, 4)}')\n",
    "        print(f'The test RMSE on the 2b is: {round(rmse_2b, 4)}')\n",
    "        print(f'The test RMSE on the 3b is: {round(rmse_3b, 4)}')\n",
    "        print(f'The test RMSE on the hr is: {round(rmse_hr, 4)}')\n",
    "        print(f'The test RMSE on the rbi is: {round(rmse_rbi, 4)}')\n",
    "        print(f'The test RMSE on the bb is: {round(rmse_bb, 4)}')\n",
    "        print(f'The test RMSE on the so is: {round(rmse_so, 4)}')\n",
    "        print(f'The test RMSE on the avg is: {round(rmse_avg, 4)}')\n",
    "        print(f'The test RMSE on the obp is: {round(rmse_obp, 4)}')\n",
    "        print(f'The test RMSE on the slg is: {round(rmse_slg, 4)}')\n",
    "        print(f'The test RMSE on the ops is: {round(rmse_ops, 4)}')\n",
    "        print()"
   ]
  },
  {
   "cell_type": "code",
   "execution_count": 1,
   "id": "0834173f-c2e4-417d-9d70-c31cf52dd9f2",
   "metadata": {},
   "outputs": [],
   "source": [
    "import pickle\n",
    "import numpy as np\n",
    "import pandas as pd"
   ]
  },
  {
   "cell_type": "code",
   "execution_count": 16,
   "id": "416bb322-f9f5-450d-854d-c84018cb900a",
   "metadata": {},
   "outputs": [],
   "source": [
    "stats = pickle.load(open('../pickles/forecast.pkl', 'rb'))"
   ]
  },
  {
   "cell_type": "code",
   "execution_count": 17,
   "id": "3b7262e6-32cc-4230-ac1b-c52e4eddf10f",
   "metadata": {},
   "outputs": [
    {
     "name": "stdout",
     "output_type": "stream",
     "text": [
      "                name   AB    R    H   2B   3B   HR  RBI   BB   SO    AVG  \\\n",
      "0         Jose Abreu  4.0  1.0  1.0  0.0  0.0  0.0  1.0  0.0  1.0  0.264   \n",
      "1       Willy Adames  3.0  0.0  1.0  0.0  0.0  0.0  0.0  0.0  1.0  0.240   \n",
      "2     Ehire Adrianza  2.0  0.0  1.0  0.0  0.0  0.0  0.0  0.0  1.0  0.233   \n",
      "3      Jesus Aguilar  3.0  0.0  1.0  0.0  0.0  0.0  1.0  0.0  1.0  0.261   \n",
      "4         Nick Ahmed  3.0  0.0  1.0  0.0  0.0  0.0  0.0  0.0  1.0  0.226   \n",
      "..               ...  ...  ...  ...  ...  ...  ...  ...  ...  ...    ...   \n",
      "388      Jake Meyers  3.0  0.0  1.0  0.0  0.0  0.0  1.0  0.0  1.0  0.293   \n",
      "389       Derek Hill  4.0  0.0  1.0  0.0  0.0  0.0  0.0  0.0  2.0  0.273   \n",
      "390     Gavin Sheets  3.0  0.0  1.0  0.0  0.0  0.0  0.0  0.0  1.0  0.241   \n",
      "391        Eli White  3.0  1.0  1.0  0.0  0.0  0.0  0.0  0.0  1.0  0.200   \n",
      "392  Frank Schwindel  4.0  1.0  2.0  0.0  0.0  0.0  1.0  0.0  1.0  0.340   \n",
      "\n",
      "       OBP    SLG    OPS  \n",
      "0    0.326  0.485  0.812  \n",
      "1    0.303  0.391  0.694  \n",
      "2    0.300  0.363  0.663  \n",
      "3    0.341  0.464  0.805  \n",
      "4    0.282  0.362  0.644  \n",
      "..     ...    ...    ...  \n",
      "388  0.334  0.539  0.873  \n",
      "389  0.325  0.411  0.736  \n",
      "390  0.315  0.542  0.857  \n",
      "391  0.275  0.312  0.586  \n",
      "392  0.389  0.610  0.999  \n",
      "\n",
      "[393 rows x 14 columns]\n"
     ]
    }
   ],
   "source": [
    "print(stats)"
   ]
  },
  {
   "cell_type": "code",
   "execution_count": 18,
   "id": "dda17916-e274-4773-b741-b4e984f19fd2",
   "metadata": {},
   "outputs": [
    {
     "data": {
      "text/plain": [
       "0           Jose Abreu\n",
       "1         Willy Adames\n",
       "2       Ehire Adrianza\n",
       "3        Jesus Aguilar\n",
       "4           Nick Ahmed\n",
       "            ...       \n",
       "388        Jake Meyers\n",
       "389         Derek Hill\n",
       "390       Gavin Sheets\n",
       "391          Eli White\n",
       "392    Frank Schwindel\n",
       "Name: name, Length: 393, dtype: object"
      ]
     },
     "execution_count": 18,
     "metadata": {},
     "output_type": "execute_result"
    }
   ],
   "source": [
    "stats['name']"
   ]
  },
  {
   "cell_type": "code",
   "execution_count": 19,
   "id": "44d2fa31-1180-4c80-964b-274d6bde6176",
   "metadata": {},
   "outputs": [],
   "source": [
    "info = stats[stats['name'] == 'Jose Abreu']"
   ]
  },
  {
   "cell_type": "code",
   "execution_count": 20,
   "id": "3463c4e6-61ad-48d8-b5a1-79f29368866f",
   "metadata": {},
   "outputs": [],
   "source": [
    "info = info.drop(columns = ['name'])"
   ]
  },
  {
   "cell_type": "code",
   "execution_count": 21,
   "id": "c6f1d3f9-7d78-441d-b7f2-140732b82499",
   "metadata": {},
   "outputs": [
    {
     "data": {
      "text/html": [
       "<div>\n",
       "<style scoped>\n",
       "    .dataframe tbody tr th:only-of-type {\n",
       "        vertical-align: middle;\n",
       "    }\n",
       "\n",
       "    .dataframe tbody tr th {\n",
       "        vertical-align: top;\n",
       "    }\n",
       "\n",
       "    .dataframe thead th {\n",
       "        text-align: right;\n",
       "    }\n",
       "</style>\n",
       "<table border=\"1\" class=\"dataframe\">\n",
       "  <thead>\n",
       "    <tr style=\"text-align: right;\">\n",
       "      <th></th>\n",
       "      <th>AB</th>\n",
       "      <th>R</th>\n",
       "      <th>H</th>\n",
       "      <th>2B</th>\n",
       "      <th>3B</th>\n",
       "      <th>HR</th>\n",
       "      <th>RBI</th>\n",
       "      <th>BB</th>\n",
       "      <th>SO</th>\n",
       "      <th>AVG</th>\n",
       "      <th>OBP</th>\n",
       "      <th>SLG</th>\n",
       "      <th>OPS</th>\n",
       "    </tr>\n",
       "  </thead>\n",
       "  <tbody>\n",
       "    <tr>\n",
       "      <th>0</th>\n",
       "      <td>4.0</td>\n",
       "      <td>1.0</td>\n",
       "      <td>1.0</td>\n",
       "      <td>0.0</td>\n",
       "      <td>0.0</td>\n",
       "      <td>0.0</td>\n",
       "      <td>1.0</td>\n",
       "      <td>0.0</td>\n",
       "      <td>1.0</td>\n",
       "      <td>0.264</td>\n",
       "      <td>0.326</td>\n",
       "      <td>0.485</td>\n",
       "      <td>0.812</td>\n",
       "    </tr>\n",
       "  </tbody>\n",
       "</table>\n",
       "</div>"
      ],
      "text/plain": [
       "    AB    R    H   2B   3B   HR  RBI   BB   SO    AVG    OBP    SLG    OPS\n",
       "0  4.0  1.0  1.0  0.0  0.0  0.0  1.0  0.0  1.0  0.264  0.326  0.485  0.812"
      ]
     },
     "execution_count": 21,
     "metadata": {},
     "output_type": "execute_result"
    }
   ],
   "source": [
    "info"
   ]
  },
  {
   "cell_type": "code",
   "execution_count": 24,
   "id": "4486de2f-e2b1-4b97-aa3a-cc52f54292f0",
   "metadata": {},
   "outputs": [],
   "source": [
    "salary = pickle.load(open('../pickles/pred_salary.pkl', 'rb'))"
   ]
  },
  {
   "cell_type": "code",
   "execution_count": 25,
   "id": "8cb726d1-aa5b-4151-af48-1d4b552b2c98",
   "metadata": {},
   "outputs": [
    {
     "data": {
      "text/html": [
       "<div>\n",
       "<style scoped>\n",
       "    .dataframe tbody tr th:only-of-type {\n",
       "        vertical-align: middle;\n",
       "    }\n",
       "\n",
       "    .dataframe tbody tr th {\n",
       "        vertical-align: top;\n",
       "    }\n",
       "\n",
       "    .dataframe thead th {\n",
       "        text-align: right;\n",
       "    }\n",
       "</style>\n",
       "<table border=\"1\" class=\"dataframe\">\n",
       "  <thead>\n",
       "    <tr style=\"text-align: right;\">\n",
       "      <th></th>\n",
       "      <th>salary</th>\n",
       "    </tr>\n",
       "    <tr>\n",
       "      <th>name</th>\n",
       "      <th></th>\n",
       "    </tr>\n",
       "  </thead>\n",
       "  <tbody>\n",
       "    <tr>\n",
       "      <th>Jose Abreu</th>\n",
       "      <td>7.670945e+06</td>\n",
       "    </tr>\n",
       "    <tr>\n",
       "      <th>Willy Adames</th>\n",
       "      <td>5.668835e+06</td>\n",
       "    </tr>\n",
       "    <tr>\n",
       "      <th>Ehire Adrianza</th>\n",
       "      <td>4.155065e+06</td>\n",
       "    </tr>\n",
       "    <tr>\n",
       "      <th>Jesus Aguilar</th>\n",
       "      <td>6.232517e+06</td>\n",
       "    </tr>\n",
       "    <tr>\n",
       "      <th>Nick Ahmed</th>\n",
       "      <td>5.053636e+06</td>\n",
       "    </tr>\n",
       "    <tr>\n",
       "      <th>...</th>\n",
       "      <td>...</td>\n",
       "    </tr>\n",
       "    <tr>\n",
       "      <th>Jake Meyers</th>\n",
       "      <td>4.746970e+06</td>\n",
       "    </tr>\n",
       "    <tr>\n",
       "      <th>Derek Hill</th>\n",
       "      <td>5.001817e+06</td>\n",
       "    </tr>\n",
       "    <tr>\n",
       "      <th>Gavin Sheets</th>\n",
       "      <td>4.149427e+06</td>\n",
       "    </tr>\n",
       "    <tr>\n",
       "      <th>Eli White</th>\n",
       "      <td>3.924376e+06</td>\n",
       "    </tr>\n",
       "    <tr>\n",
       "      <th>Frank Schwindel</th>\n",
       "      <td>4.906816e+06</td>\n",
       "    </tr>\n",
       "  </tbody>\n",
       "</table>\n",
       "<p>393 rows × 1 columns</p>\n",
       "</div>"
      ],
      "text/plain": [
       "                       salary\n",
       "name                         \n",
       "Jose Abreu       7.670945e+06\n",
       "Willy Adames     5.668835e+06\n",
       "Ehire Adrianza   4.155065e+06\n",
       "Jesus Aguilar    6.232517e+06\n",
       "Nick Ahmed       5.053636e+06\n",
       "...                       ...\n",
       "Jake Meyers      4.746970e+06\n",
       "Derek Hill       5.001817e+06\n",
       "Gavin Sheets     4.149427e+06\n",
       "Eli White        3.924376e+06\n",
       "Frank Schwindel  4.906816e+06\n",
       "\n",
       "[393 rows x 1 columns]"
      ]
     },
     "execution_count": 25,
     "metadata": {},
     "output_type": "execute_result"
    }
   ],
   "source": [
    "salary"
   ]
  },
  {
   "cell_type": "code",
   "execution_count": 35,
   "id": "3981e024-539a-4a59-8bad-d66371540094",
   "metadata": {},
   "outputs": [],
   "source": [
    "info = salary[salary.index=='Jose Abreu']"
   ]
  },
  {
   "cell_type": "code",
   "execution_count": 42,
   "id": "4f8c3caa-b8de-4b48-ae98-1cd2becf1fe2",
   "metadata": {},
   "outputs": [
    {
     "data": {
      "text/plain": [
       "7670945.04"
      ]
     },
     "execution_count": 42,
     "metadata": {},
     "output_type": "execute_result"
    }
   ],
   "source": [
    "round(info['salary'][0], 2)"
   ]
  },
  {
   "cell_type": "code",
   "execution_count": 41,
   "id": "9012f20d-d92a-4f0b-902e-c52589712306",
   "metadata": {},
   "outputs": [
    {
     "data": {
      "text/html": [
       "<div>\n",
       "<style scoped>\n",
       "    .dataframe tbody tr th:only-of-type {\n",
       "        vertical-align: middle;\n",
       "    }\n",
       "\n",
       "    .dataframe tbody tr th {\n",
       "        vertical-align: top;\n",
       "    }\n",
       "\n",
       "    .dataframe thead th {\n",
       "        text-align: right;\n",
       "    }\n",
       "</style>\n",
       "<table border=\"1\" class=\"dataframe\">\n",
       "  <thead>\n",
       "    <tr style=\"text-align: right;\">\n",
       "      <th></th>\n",
       "      <th>salary</th>\n",
       "    </tr>\n",
       "    <tr>\n",
       "      <th>name</th>\n",
       "      <th></th>\n",
       "    </tr>\n",
       "  </thead>\n",
       "  <tbody>\n",
       "    <tr>\n",
       "      <th>Jose Abreu</th>\n",
       "      <td>7.670945e+06</td>\n",
       "    </tr>\n",
       "  </tbody>\n",
       "</table>\n",
       "</div>"
      ],
      "text/plain": [
       "                  salary\n",
       "name                    \n",
       "Jose Abreu  7.670945e+06"
      ]
     },
     "execution_count": 41,
     "metadata": {},
     "output_type": "execute_result"
    }
   ],
   "source": []
  },
  {
   "cell_type": "code",
   "execution_count": 12,
   "id": "c3aa69da-fab7-452c-a26d-a8ffff82550e",
   "metadata": {},
   "outputs": [],
   "source": [
    "from sklearn.preprocessing import StandardScaler\n",
    "from sklearn.decomposition import PCA"
   ]
  },
  {
   "cell_type": "code",
   "execution_count": 43,
   "id": "ddd8f269-aa9b-418b-bc23-3e50dae5c6a7",
   "metadata": {},
   "outputs": [],
   "source": [
    "stats = pickle.load(open('../pickles/forecast.pkl', 'rb'))"
   ]
  },
  {
   "cell_type": "code",
   "execution_count": 52,
   "id": "f990062b-1804-4e99-8954-8ddcc987d4e7",
   "metadata": {},
   "outputs": [],
   "source": [
    "info = stats[stats['name'] == 'Mookie Betts']"
   ]
  },
  {
   "cell_type": "code",
   "execution_count": 53,
   "id": "379495cd-bcd6-4b8e-8432-9089f5caa0c6",
   "metadata": {},
   "outputs": [
    {
     "data": {
      "text/plain": [
       "array([['Mookie Betts', 280.0, 70.0, 70.0, 0.0, 0.0, 0.0, 70.0, 70.0,\n",
       "        69.0, 0.297, 0.396, 0.537, 0.933]], dtype=object)"
      ]
     },
     "execution_count": 53,
     "metadata": {},
     "output_type": "execute_result"
    }
   ],
   "source": [
    "info.values"
   ]
  },
  {
   "cell_type": "code",
   "execution_count": null,
   "id": "23722e6f-10d0-44ea-b442-ae8f53616fa8",
   "metadata": {},
   "outputs": [],
   "source": []
  }
 ],
 "metadata": {
  "kernelspec": {
   "display_name": "Python [conda env:dsi] *",
   "language": "python",
   "name": "conda-env-dsi-py"
  },
  "language_info": {
   "codemirror_mode": {
    "name": "ipython",
    "version": 3
   },
   "file_extension": ".py",
   "mimetype": "text/x-python",
   "name": "python",
   "nbconvert_exporter": "python",
   "pygments_lexer": "ipython3",
   "version": "3.8.8"
  }
 },
 "nbformat": 4,
 "nbformat_minor": 5
}
