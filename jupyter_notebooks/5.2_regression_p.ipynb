{
 "cells": [
  {
   "cell_type": "markdown",
   "id": "dcf76122-7cf7-4450-be99-33a26a6d09e6",
   "metadata": {},
   "source": [
    "# Predicting Pitcher Salary Using Regression Model\n",
    "---\n",
    "Using the historical pitcher stats and salary, a regression model will be created to predict the salary."
   ]
  },
  {
   "cell_type": "markdown",
   "id": "a280554c-24f4-47cd-a463-306086517870",
   "metadata": {},
   "source": [
    "## Import Libraries\n",
    "---"
   ]
  },
  {
   "cell_type": "code",
   "execution_count": 1,
   "id": "308fdebc-4741-4cb6-86e1-86a632c242e0",
   "metadata": {
    "tags": []
   },
   "outputs": [],
   "source": [
    "import pandas as pd\n",
    "import numpy as np\n",
    "import seaborn as sns\n",
    "import matplotlib.pyplot as plt\n",
    "\n",
    "from sklearn import metrics\n",
    "from sklearn.model_selection import train_test_split\n",
    "from sklearn.linear_model import RidgeCV, LassoCV, ElasticNetCV\n",
    "from sklearn.preprocessing import StandardScaler\n",
    "from sklearn.decomposition import PCA\n",
    "\n",
    "from sklearn.ensemble import AdaBoostRegressor, VotingRegressor\n",
    "\n",
    "import pickle"
   ]
  },
  {
   "cell_type": "markdown",
   "id": "4f81bcac-bb69-40f9-b800-8be9b61df6ec",
   "metadata": {},
   "source": [
    "## Import Dataset\n",
    "---"
   ]
  },
  {
   "cell_type": "code",
   "execution_count": 2,
   "id": "859d506d-13da-4c18-aae1-b1bba6b5b775",
   "metadata": {},
   "outputs": [
    {
     "data": {
      "text/html": [
       "<div>\n",
       "<style scoped>\n",
       "    .dataframe tbody tr th:only-of-type {\n",
       "        vertical-align: middle;\n",
       "    }\n",
       "\n",
       "    .dataframe tbody tr th {\n",
       "        vertical-align: top;\n",
       "    }\n",
       "\n",
       "    .dataframe thead th {\n",
       "        text-align: right;\n",
       "    }\n",
       "</style>\n",
       "<table border=\"1\" class=\"dataframe\">\n",
       "  <thead>\n",
       "    <tr style=\"text-align: right;\">\n",
       "      <th></th>\n",
       "      <th>playerID</th>\n",
       "      <th>yearID</th>\n",
       "      <th>W</th>\n",
       "      <th>L</th>\n",
       "      <th>ERA</th>\n",
       "      <th>IP</th>\n",
       "      <th>H</th>\n",
       "      <th>ER</th>\n",
       "      <th>HR</th>\n",
       "      <th>BB</th>\n",
       "      <th>SO</th>\n",
       "      <th>WHIP</th>\n",
       "      <th>salary</th>\n",
       "    </tr>\n",
       "  </thead>\n",
       "  <tbody>\n",
       "    <tr>\n",
       "      <th>0</th>\n",
       "      <td>aasedo01</td>\n",
       "      <td>1986</td>\n",
       "      <td>6</td>\n",
       "      <td>7</td>\n",
       "      <td>2.98</td>\n",
       "      <td>81.7</td>\n",
       "      <td>71</td>\n",
       "      <td>27</td>\n",
       "      <td>6</td>\n",
       "      <td>28</td>\n",
       "      <td>67</td>\n",
       "      <td>1.21</td>\n",
       "      <td>600000</td>\n",
       "    </tr>\n",
       "    <tr>\n",
       "      <th>1</th>\n",
       "      <td>ackerji01</td>\n",
       "      <td>1986</td>\n",
       "      <td>2</td>\n",
       "      <td>4</td>\n",
       "      <td>4.35</td>\n",
       "      <td>60.0</td>\n",
       "      <td>63</td>\n",
       "      <td>29</td>\n",
       "      <td>6</td>\n",
       "      <td>22</td>\n",
       "      <td>32</td>\n",
       "      <td>1.42</td>\n",
       "      <td>367500</td>\n",
       "    </tr>\n",
       "    <tr>\n",
       "      <th>2</th>\n",
       "      <td>ackerji01</td>\n",
       "      <td>1986</td>\n",
       "      <td>3</td>\n",
       "      <td>8</td>\n",
       "      <td>3.79</td>\n",
       "      <td>95.0</td>\n",
       "      <td>100</td>\n",
       "      <td>40</td>\n",
       "      <td>7</td>\n",
       "      <td>26</td>\n",
       "      <td>37</td>\n",
       "      <td>1.33</td>\n",
       "      <td>367500</td>\n",
       "    </tr>\n",
       "    <tr>\n",
       "      <th>3</th>\n",
       "      <td>aguilri01</td>\n",
       "      <td>1986</td>\n",
       "      <td>10</td>\n",
       "      <td>7</td>\n",
       "      <td>3.88</td>\n",
       "      <td>141.7</td>\n",
       "      <td>145</td>\n",
       "      <td>61</td>\n",
       "      <td>15</td>\n",
       "      <td>36</td>\n",
       "      <td>104</td>\n",
       "      <td>1.28</td>\n",
       "      <td>130000</td>\n",
       "    </tr>\n",
       "    <tr>\n",
       "      <th>4</th>\n",
       "      <td>alexado01</td>\n",
       "      <td>1986</td>\n",
       "      <td>5</td>\n",
       "      <td>4</td>\n",
       "      <td>4.46</td>\n",
       "      <td>111.0</td>\n",
       "      <td>120</td>\n",
       "      <td>55</td>\n",
       "      <td>18</td>\n",
       "      <td>20</td>\n",
       "      <td>65</td>\n",
       "      <td>1.26</td>\n",
       "      <td>700000</td>\n",
       "    </tr>\n",
       "  </tbody>\n",
       "</table>\n",
       "</div>"
      ],
      "text/plain": [
       "    playerID  yearID   W  L   ERA     IP    H  ER  HR  BB   SO  WHIP  salary\n",
       "0   aasedo01    1986   6  7  2.98   81.7   71  27   6  28   67  1.21  600000\n",
       "1  ackerji01    1986   2  4  4.35   60.0   63  29   6  22   32  1.42  367500\n",
       "2  ackerji01    1986   3  8  3.79   95.0  100  40   7  26   37  1.33  367500\n",
       "3  aguilri01    1986  10  7  3.88  141.7  145  61  15  36  104  1.28  130000\n",
       "4  alexado01    1986   5  4  4.46  111.0  120  55  18  20   65  1.26  700000"
      ]
     },
     "execution_count": 2,
     "metadata": {},
     "output_type": "execute_result"
    }
   ],
   "source": [
    "df = pd.read_csv('../data/past_salaries_pitch.csv').drop(['Unnamed: 0'], axis = 1)\n",
    "df.head()"
   ]
  },
  {
   "cell_type": "code",
   "execution_count": 3,
   "id": "b61110b5-ea85-48b2-874c-9b5b470bdd40",
   "metadata": {},
   "outputs": [
    {
     "data": {
      "text/plain": [
       "(13125, 13)"
      ]
     },
     "execution_count": 3,
     "metadata": {},
     "output_type": "execute_result"
    }
   ],
   "source": [
    "df.shape"
   ]
  },
  {
   "cell_type": "markdown",
   "id": "534bd3c9-21a6-427d-9c32-c4cf6c41ed24",
   "metadata": {},
   "source": [
    "## Create X and y variables for Salary\n",
    "---"
   ]
  },
  {
   "cell_type": "code",
   "execution_count": 4,
   "id": "a60a588e-51d4-49ee-80bd-60f782962988",
   "metadata": {},
   "outputs": [
    {
     "data": {
      "text/html": [
       "<div>\n",
       "<style scoped>\n",
       "    .dataframe tbody tr th:only-of-type {\n",
       "        vertical-align: middle;\n",
       "    }\n",
       "\n",
       "    .dataframe tbody tr th {\n",
       "        vertical-align: top;\n",
       "    }\n",
       "\n",
       "    .dataframe thead th {\n",
       "        text-align: right;\n",
       "    }\n",
       "</style>\n",
       "<table border=\"1\" class=\"dataframe\">\n",
       "  <thead>\n",
       "    <tr style=\"text-align: right;\">\n",
       "      <th></th>\n",
       "      <th>W</th>\n",
       "      <th>L</th>\n",
       "      <th>ERA</th>\n",
       "      <th>IP</th>\n",
       "      <th>H</th>\n",
       "      <th>ER</th>\n",
       "      <th>HR</th>\n",
       "      <th>BB</th>\n",
       "      <th>SO</th>\n",
       "      <th>WHIP</th>\n",
       "    </tr>\n",
       "  </thead>\n",
       "  <tbody>\n",
       "    <tr>\n",
       "      <th>0</th>\n",
       "      <td>6</td>\n",
       "      <td>7</td>\n",
       "      <td>2.98</td>\n",
       "      <td>81.7</td>\n",
       "      <td>71</td>\n",
       "      <td>27</td>\n",
       "      <td>6</td>\n",
       "      <td>28</td>\n",
       "      <td>67</td>\n",
       "      <td>1.21</td>\n",
       "    </tr>\n",
       "    <tr>\n",
       "      <th>1</th>\n",
       "      <td>2</td>\n",
       "      <td>4</td>\n",
       "      <td>4.35</td>\n",
       "      <td>60.0</td>\n",
       "      <td>63</td>\n",
       "      <td>29</td>\n",
       "      <td>6</td>\n",
       "      <td>22</td>\n",
       "      <td>32</td>\n",
       "      <td>1.42</td>\n",
       "    </tr>\n",
       "    <tr>\n",
       "      <th>2</th>\n",
       "      <td>3</td>\n",
       "      <td>8</td>\n",
       "      <td>3.79</td>\n",
       "      <td>95.0</td>\n",
       "      <td>100</td>\n",
       "      <td>40</td>\n",
       "      <td>7</td>\n",
       "      <td>26</td>\n",
       "      <td>37</td>\n",
       "      <td>1.33</td>\n",
       "    </tr>\n",
       "    <tr>\n",
       "      <th>3</th>\n",
       "      <td>10</td>\n",
       "      <td>7</td>\n",
       "      <td>3.88</td>\n",
       "      <td>141.7</td>\n",
       "      <td>145</td>\n",
       "      <td>61</td>\n",
       "      <td>15</td>\n",
       "      <td>36</td>\n",
       "      <td>104</td>\n",
       "      <td>1.28</td>\n",
       "    </tr>\n",
       "    <tr>\n",
       "      <th>4</th>\n",
       "      <td>5</td>\n",
       "      <td>4</td>\n",
       "      <td>4.46</td>\n",
       "      <td>111.0</td>\n",
       "      <td>120</td>\n",
       "      <td>55</td>\n",
       "      <td>18</td>\n",
       "      <td>20</td>\n",
       "      <td>65</td>\n",
       "      <td>1.26</td>\n",
       "    </tr>\n",
       "  </tbody>\n",
       "</table>\n",
       "</div>"
      ],
      "text/plain": [
       "    W  L   ERA     IP    H  ER  HR  BB   SO  WHIP\n",
       "0   6  7  2.98   81.7   71  27   6  28   67  1.21\n",
       "1   2  4  4.35   60.0   63  29   6  22   32  1.42\n",
       "2   3  8  3.79   95.0  100  40   7  26   37  1.33\n",
       "3  10  7  3.88  141.7  145  61  15  36  104  1.28\n",
       "4   5  4  4.46  111.0  120  55  18  20   65  1.26"
      ]
     },
     "execution_count": 4,
     "metadata": {},
     "output_type": "execute_result"
    }
   ],
   "source": [
    "X = df.drop(columns = ['playerID', 'salary', 'yearID'])\n",
    "y = df['salary']\n",
    "X.head()"
   ]
  },
  {
   "cell_type": "markdown",
   "id": "591b523c-cbfa-463e-9915-4f459eec3d7b",
   "metadata": {},
   "source": [
    "## Train Test Split\n",
    "---"
   ]
  },
  {
   "cell_type": "code",
   "execution_count": 5,
   "id": "2e27f0c8-0cb9-46c7-8cff-c7135dda7142",
   "metadata": {},
   "outputs": [],
   "source": [
    "X_train, X_test, y_train, y_test = train_test_split(X, y, train_size = 0.3, random_state=42)"
   ]
  },
  {
   "cell_type": "markdown",
   "id": "6d070ab0-85f7-40b8-a00e-015d4ca7ecbf",
   "metadata": {},
   "source": [
    "## Preprocessing\n",
    "---\n",
    "### Standard Scaler"
   ]
  },
  {
   "cell_type": "code",
   "execution_count": 6,
   "id": "a56d9b03-3868-4d1d-af26-425476a7c6f0",
   "metadata": {},
   "outputs": [],
   "source": [
    "ss = StandardScaler()\n",
    "X_train_sc = ss.fit_transform(X_train)\n",
    "X_test_sc = ss.transform(X_test)"
   ]
  },
  {
   "cell_type": "markdown",
   "id": "e4fca178-f70c-4821-a93f-6e5788467239",
   "metadata": {},
   "source": [
    "### PCA"
   ]
  },
  {
   "cell_type": "code",
   "execution_count": 7,
   "id": "f130350a-3fed-4a1a-a366-d7c867b85177",
   "metadata": {},
   "outputs": [],
   "source": [
    "pca = PCA(random_state=42)\n",
    "X_train_p = pca.fit_transform(X_train_sc)\n",
    "X_test_p = pca.transform(X_test_sc)"
   ]
  },
  {
   "cell_type": "markdown",
   "id": "d8e729ae-6d98-48b7-b973-9a8ac637ba16",
   "metadata": {},
   "source": [
    "## Functions Implemented\n",
    "---"
   ]
  },
  {
   "cell_type": "code",
   "execution_count": 8,
   "id": "f6015a53-fec3-4473-b572-044153319309",
   "metadata": {},
   "outputs": [],
   "source": [
    "def fit_models(x, y, x_test, y_test, model):\n",
    "    \"\"\"\n",
    "    Function fits specified model\n",
    "    Returns metrics for Train and Test Set\n",
    "    \"\"\"\n",
    "    model.fit(x, y)\n",
    "    \n",
    "    print()\n",
    "    print(f'Train')\n",
    "    reg_metrics(x, y, model)\n",
    "    \n",
    "    print()\n",
    "    print(f'Test')\n",
    "    reg_metrics(x_test, y_test, model)"
   ]
  },
  {
   "cell_type": "code",
   "execution_count": 9,
   "id": "3c6f9ece-6c44-43cb-b353-f444cb055926",
   "metadata": {},
   "outputs": [],
   "source": [
    "def reg_metrics(x, y, model):\n",
    "    \"\"\"\n",
    "    Function predicts using a specified model.\n",
    "    Returns MSE, RMSE, and R2\n",
    "    \"\"\"\n",
    "    \n",
    "    y_pred = model.predict(x)\n",
    "    resids = y - y_pred\n",
    "\n",
    "    mse = metrics.mean_squared_error(y, y_pred)\n",
    "    rmse = metrics.mean_squared_error(y, y_pred, squared = False)\n",
    "    score = model.score(x, y)\n",
    "    \n",
    "    print(model)\n",
    "    print(\"R2: \", score)\n",
    "    print(\"MSE: \", mse)\n",
    "    print(\"RMSE: \", rmse)"
   ]
  },
  {
   "cell_type": "markdown",
   "id": "8eedbffd-1b61-4de5-a074-b5ebccf14cf2",
   "metadata": {},
   "source": [
    "## Voting Model\n",
    "---"
   ]
  },
  {
   "cell_type": "code",
   "execution_count": 10,
   "id": "b4fec3cf-490f-4c9b-8b03-8ff43402d4cf",
   "metadata": {},
   "outputs": [],
   "source": [
    "l_alphas = np.logspace(-3, 1, 100)\n",
    "e_alphas = np.linspace(0.01, 1, 100)\n",
    "enet_ratio = 0.05\n",
    "r_alphas = np.logspace(0, 5, 220)"
   ]
  },
  {
   "cell_type": "code",
   "execution_count": 11,
   "id": "28853284-4378-412f-b2dc-08147b449b45",
   "metadata": {},
   "outputs": [],
   "source": [
    "vote = VotingRegressor([\n",
    "    ('ad', AdaBoostRegressor(random_state=42)),\n",
    "    ('rid', RidgeCV(r_alphas, scoring='r2', cv=5)),\n",
    "    ('las', LassoCV(alphas=l_alphas, cv=5, max_iter=50_000, n_jobs=-1)),\n",
    "    ('enet_model', ElasticNetCV(alphas=e_alphas, l1_ratio=enet_ratio, cv=5, max_iter=3000, n_jobs=-1))\n",
    "])"
   ]
  },
  {
   "cell_type": "code",
   "execution_count": 12,
   "id": "485825cd-9cf6-4af8-a6e5-127dd605833a",
   "metadata": {},
   "outputs": [
    {
     "name": "stdout",
     "output_type": "stream",
     "text": [
      "\n",
      "Train\n",
      "VotingRegressor(estimators=[('ad', AdaBoostRegressor(random_state=42)),\n",
      "                            ('rid',\n",
      "                             RidgeCV(alphas=array([1.00000000e+00, 1.05397680e+00, 1.11086709e+00, 1.17082814e+00,\n",
      "       1.23402569e+00, 1.30063444e+00, 1.37083853e+00, 1.44483200e+00,\n",
      "       1.52281940e+00, 1.60501632e+00, 1.69164996e+00, 1.78295980e+00,\n",
      "       1.87919826e+00, 1.98063137e+00, 2.08753951e+00, 2.20021820e+00,\n",
      "       2.31897894e...\n",
      "       0.34, 0.35, 0.36, 0.37, 0.38, 0.39, 0.4 , 0.41, 0.42, 0.43, 0.44,\n",
      "       0.45, 0.46, 0.47, 0.48, 0.49, 0.5 , 0.51, 0.52, 0.53, 0.54, 0.55,\n",
      "       0.56, 0.57, 0.58, 0.59, 0.6 , 0.61, 0.62, 0.63, 0.64, 0.65, 0.66,\n",
      "       0.67, 0.68, 0.69, 0.7 , 0.71, 0.72, 0.73, 0.74, 0.75, 0.76, 0.77,\n",
      "       0.78, 0.79, 0.8 , 0.81, 0.82, 0.83, 0.84, 0.85, 0.86, 0.87, 0.88,\n",
      "       0.89, 0.9 , 0.91, 0.92, 0.93, 0.94, 0.95, 0.96, 0.97, 0.98, 0.99,\n",
      "       1.  ]),\n",
      "                                          cv=5, l1_ratio=0.05, max_iter=3000,\n",
      "                                          n_jobs=-1))])\n",
      "R2:  0.12788993529382298\n",
      "MSE:  9210315269052.115\n",
      "RMSE:  3034850.1229965403\n",
      "\n",
      "Test\n",
      "VotingRegressor(estimators=[('ad', AdaBoostRegressor(random_state=42)),\n",
      "                            ('rid',\n",
      "                             RidgeCV(alphas=array([1.00000000e+00, 1.05397680e+00, 1.11086709e+00, 1.17082814e+00,\n",
      "       1.23402569e+00, 1.30063444e+00, 1.37083853e+00, 1.44483200e+00,\n",
      "       1.52281940e+00, 1.60501632e+00, 1.69164996e+00, 1.78295980e+00,\n",
      "       1.87919826e+00, 1.98063137e+00, 2.08753951e+00, 2.20021820e+00,\n",
      "       2.31897894e...\n",
      "       0.34, 0.35, 0.36, 0.37, 0.38, 0.39, 0.4 , 0.41, 0.42, 0.43, 0.44,\n",
      "       0.45, 0.46, 0.47, 0.48, 0.49, 0.5 , 0.51, 0.52, 0.53, 0.54, 0.55,\n",
      "       0.56, 0.57, 0.58, 0.59, 0.6 , 0.61, 0.62, 0.63, 0.64, 0.65, 0.66,\n",
      "       0.67, 0.68, 0.69, 0.7 , 0.71, 0.72, 0.73, 0.74, 0.75, 0.76, 0.77,\n",
      "       0.78, 0.79, 0.8 , 0.81, 0.82, 0.83, 0.84, 0.85, 0.86, 0.87, 0.88,\n",
      "       0.89, 0.9 , 0.91, 0.92, 0.93, 0.94, 0.95, 0.96, 0.97, 0.98, 0.99,\n",
      "       1.  ]),\n",
      "                                          cv=5, l1_ratio=0.05, max_iter=3000,\n",
      "                                          n_jobs=-1))])\n",
      "R2:  0.06840989617138049\n",
      "MSE:  9264529826914.877\n",
      "RMSE:  3043769.0166822574\n"
     ]
    }
   ],
   "source": [
    "fit_models(X_train_p, y_train, X_test_p, y_test, vote)"
   ]
  },
  {
   "cell_type": "markdown",
   "id": "640048ea-26fe-48bc-b17b-88029142ff38",
   "metadata": {},
   "source": [
    "## Save Model to Pickle File\n",
    "---"
   ]
  },
  {
   "cell_type": "code",
   "execution_count": 13,
   "id": "0f01a56c-c0f7-4bd0-b671-003c0aa7c279",
   "metadata": {
    "tags": []
   },
   "outputs": [],
   "source": [
    "with open('../model/salary_model_p.pkl', 'wb') as pickle_out:\n",
    "    pickle_out = pickle.dump(vote, pickle_out)"
   ]
  },
  {
   "cell_type": "markdown",
   "id": "6c618796-d4b0-4041-b12c-26182bac84f6",
   "metadata": {},
   "source": [
    "## Use Forecasted Stats from Time Series to Predict Salary\n",
    "---\n",
    "*This will be used for app*"
   ]
  },
  {
   "cell_type": "code",
   "execution_count": 14,
   "id": "79585059-309e-4ed2-8980-77f272cbbcbd",
   "metadata": {},
   "outputs": [
    {
     "data": {
      "text/html": [
       "<div>\n",
       "<style scoped>\n",
       "    .dataframe tbody tr th:only-of-type {\n",
       "        vertical-align: middle;\n",
       "    }\n",
       "\n",
       "    .dataframe tbody tr th {\n",
       "        vertical-align: top;\n",
       "    }\n",
       "\n",
       "    .dataframe thead th {\n",
       "        text-align: right;\n",
       "    }\n",
       "</style>\n",
       "<table border=\"1\" class=\"dataframe\">\n",
       "  <thead>\n",
       "    <tr style=\"text-align: right;\">\n",
       "      <th></th>\n",
       "      <th>name</th>\n",
       "      <th>W</th>\n",
       "      <th>L</th>\n",
       "      <th>ERA</th>\n",
       "      <th>IP</th>\n",
       "      <th>H</th>\n",
       "      <th>ER</th>\n",
       "      <th>HR</th>\n",
       "      <th>BB</th>\n",
       "      <th>SO</th>\n",
       "      <th>WHIP</th>\n",
       "    </tr>\n",
       "  </thead>\n",
       "  <tbody>\n",
       "    <tr>\n",
       "      <th>0</th>\n",
       "      <td>Fernando Abad</td>\n",
       "      <td>0.0</td>\n",
       "      <td>0.0</td>\n",
       "      <td>7.363</td>\n",
       "      <td>3.0</td>\n",
       "      <td>4.0</td>\n",
       "      <td>1.0</td>\n",
       "      <td>0.0</td>\n",
       "      <td>0.0</td>\n",
       "      <td>4.0</td>\n",
       "      <td>1.65</td>\n",
       "    </tr>\n",
       "    <tr>\n",
       "      <th>1</th>\n",
       "      <td>Cory Abbott</td>\n",
       "      <td>0.0</td>\n",
       "      <td>0.0</td>\n",
       "      <td>7.965</td>\n",
       "      <td>9.6</td>\n",
       "      <td>6.0</td>\n",
       "      <td>9.0</td>\n",
       "      <td>3.0</td>\n",
       "      <td>10.0</td>\n",
       "      <td>8.0</td>\n",
       "      <td>1.96</td>\n",
       "    </tr>\n",
       "    <tr>\n",
       "      <th>2</th>\n",
       "      <td>Domingo Acevedo</td>\n",
       "      <td>0.0</td>\n",
       "      <td>0.0</td>\n",
       "      <td>7.010</td>\n",
       "      <td>2.4</td>\n",
       "      <td>3.0</td>\n",
       "      <td>2.0</td>\n",
       "      <td>2.0</td>\n",
       "      <td>0.0</td>\n",
       "      <td>2.0</td>\n",
       "      <td>1.29</td>\n",
       "    </tr>\n",
       "    <tr>\n",
       "      <th>3</th>\n",
       "      <td>Austin Adams</td>\n",
       "      <td>0.0</td>\n",
       "      <td>0.0</td>\n",
       "      <td>3.443</td>\n",
       "      <td>11.1</td>\n",
       "      <td>14.0</td>\n",
       "      <td>0.0</td>\n",
       "      <td>0.0</td>\n",
       "      <td>14.0</td>\n",
       "      <td>15.0</td>\n",
       "      <td>1.16</td>\n",
       "    </tr>\n",
       "    <tr>\n",
       "      <th>4</th>\n",
       "      <td>Keegan Akin</td>\n",
       "      <td>0.0</td>\n",
       "      <td>2.0</td>\n",
       "      <td>6.046</td>\n",
       "      <td>20.6</td>\n",
       "      <td>30.0</td>\n",
       "      <td>16.0</td>\n",
       "      <td>6.0</td>\n",
       "      <td>7.0</td>\n",
       "      <td>22.0</td>\n",
       "      <td>1.57</td>\n",
       "    </tr>\n",
       "  </tbody>\n",
       "</table>\n",
       "</div>"
      ],
      "text/plain": [
       "              name    W    L    ERA    IP     H    ER   HR    BB    SO  WHIP\n",
       "0    Fernando Abad  0.0  0.0  7.363   3.0   4.0   1.0  0.0   0.0   4.0  1.65\n",
       "1      Cory Abbott  0.0  0.0  7.965   9.6   6.0   9.0  3.0  10.0   8.0  1.96\n",
       "2  Domingo Acevedo  0.0  0.0  7.010   2.4   3.0   2.0  2.0   0.0   2.0  1.29\n",
       "3     Austin Adams  0.0  0.0  3.443  11.1  14.0   0.0  0.0  14.0  15.0  1.16\n",
       "4      Keegan Akin  0.0  2.0  6.046  20.6  30.0  16.0  6.0   7.0  22.0  1.57"
      ]
     },
     "execution_count": 14,
     "metadata": {},
     "output_type": "execute_result"
    }
   ],
   "source": [
    "df = pd.read_csv('../data/player_forecasts_pitch.csv').drop(['Unnamed: 0'], axis = 1)\n",
    "df.head()"
   ]
  },
  {
   "cell_type": "code",
   "execution_count": 15,
   "id": "83b4c577-4145-469f-bde8-537560e1460f",
   "metadata": {},
   "outputs": [],
   "source": [
    "X = df.drop(columns = ['name'])"
   ]
  },
  {
   "cell_type": "code",
   "execution_count": 16,
   "id": "b97bad37-a074-460d-9a0f-e39b07f663ef",
   "metadata": {},
   "outputs": [],
   "source": [
    "X = ss.transform(X)\n",
    "X = pca.transform(X)\n",
    "\n",
    "preds = vote.predict(X)\n",
    "\n",
    "pred_df = pd.DataFrame(preds, columns = ['salary'], index = df['name'])"
   ]
  },
  {
   "cell_type": "markdown",
   "id": "f328b3f9-6698-4fee-929f-55c4b86b6fa6",
   "metadata": {},
   "source": [
    "### Save to CSV and Pickle Files"
   ]
  },
  {
   "cell_type": "code",
   "execution_count": 17,
   "id": "a690a0c0-afc3-472f-bbbd-e1474c8d5848",
   "metadata": {},
   "outputs": [],
   "source": [
    "pred_df.to_csv('../data/pred_salary_pitch.csv')"
   ]
  },
  {
   "cell_type": "code",
   "execution_count": 18,
   "id": "6ae963b5-0529-484b-8a83-70dae19c1ad1",
   "metadata": {},
   "outputs": [],
   "source": [
    "with open('../pickles/pred_salary_pitch.pkl', 'wb') as pickle_out:\n",
    "    pickle_out = pickle.dump(pred_df, pickle_out)"
   ]
  },
  {
   "cell_type": "markdown",
   "id": "164d4c3b-cf6c-4cbf-9e2e-668c7748919d",
   "metadata": {},
   "source": [
    "## Recap\n",
    "---\n",
    "This notebook used hitorical stats and salary to predict the salary of pitchers. Using the model created, the salary was predicted on the forecasted stats of pitchers for use in the app."
   ]
  }
 ],
 "metadata": {
  "kernelspec": {
   "display_name": "Python [conda env:dsi] *",
   "language": "python",
   "name": "conda-env-dsi-py"
  },
  "language_info": {
   "codemirror_mode": {
    "name": "ipython",
    "version": 3
   },
   "file_extension": ".py",
   "mimetype": "text/x-python",
   "name": "python",
   "nbconvert_exporter": "python",
   "pygments_lexer": "ipython3",
   "version": "3.8.8"
  }
 },
 "nbformat": 4,
 "nbformat_minor": 5
}
