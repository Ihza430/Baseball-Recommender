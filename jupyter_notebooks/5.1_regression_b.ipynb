{
 "cells": [
  {
   "cell_type": "markdown",
   "id": "dcf76122-7cf7-4450-be99-33a26a6d09e6",
   "metadata": {},
   "source": [
    "# Predicting Batter Salary Using Regression Model\n",
    "---\n",
    "Using the historical batter stats and salary, a regression model will be created to predict the salary. "
   ]
  },
  {
   "cell_type": "markdown",
   "id": "f6eb44f3-2e9e-4c4b-9746-3867729986ac",
   "metadata": {},
   "source": [
    "## Import Libraries\n",
    "---"
   ]
  },
  {
   "cell_type": "code",
   "execution_count": 1,
   "id": "308fdebc-4741-4cb6-86e1-86a632c242e0",
   "metadata": {
    "tags": []
   },
   "outputs": [],
   "source": [
    "import pandas as pd\n",
    "import numpy as np\n",
    "import seaborn as sns\n",
    "import matplotlib.pyplot as plt\n",
    "\n",
    "from sklearn import metrics\n",
    "from sklearn.model_selection import train_test_split\n",
    "from sklearn.linear_model import RidgeCV, LassoCV, ElasticNetCV\n",
    "from sklearn.preprocessing import StandardScaler\n",
    "from sklearn.decomposition import PCA\n",
    "\n",
    "from sklearn.ensemble import AdaBoostRegressor, VotingRegressor\n",
    "\n",
    "import pickle"
   ]
  },
  {
   "cell_type": "markdown",
   "id": "79cd6a88-b064-44a8-8bc5-34b0d3808f90",
   "metadata": {},
   "source": [
    "## Import Dataset\n",
    "---"
   ]
  },
  {
   "cell_type": "code",
   "execution_count": 2,
   "id": "859d506d-13da-4c18-aae1-b1bba6b5b775",
   "metadata": {},
   "outputs": [
    {
     "data": {
      "text/html": [
       "<div>\n",
       "<style scoped>\n",
       "    .dataframe tbody tr th:only-of-type {\n",
       "        vertical-align: middle;\n",
       "    }\n",
       "\n",
       "    .dataframe tbody tr th {\n",
       "        vertical-align: top;\n",
       "    }\n",
       "\n",
       "    .dataframe thead th {\n",
       "        text-align: right;\n",
       "    }\n",
       "</style>\n",
       "<table border=\"1\" class=\"dataframe\">\n",
       "  <thead>\n",
       "    <tr style=\"text-align: right;\">\n",
       "      <th></th>\n",
       "      <th>playerID</th>\n",
       "      <th>yearID</th>\n",
       "      <th>teamID_x</th>\n",
       "      <th>lgID_x</th>\n",
       "      <th>G</th>\n",
       "      <th>AB</th>\n",
       "      <th>R</th>\n",
       "      <th>H</th>\n",
       "      <th>2B</th>\n",
       "      <th>3B</th>\n",
       "      <th>HR</th>\n",
       "      <th>RBI</th>\n",
       "      <th>BB</th>\n",
       "      <th>SO</th>\n",
       "      <th>AVG</th>\n",
       "      <th>OBP</th>\n",
       "      <th>SLG</th>\n",
       "      <th>OPS</th>\n",
       "      <th>salary</th>\n",
       "    </tr>\n",
       "  </thead>\n",
       "  <tbody>\n",
       "    <tr>\n",
       "      <th>0</th>\n",
       "      <td>aguaylu01</td>\n",
       "      <td>1986</td>\n",
       "      <td>PHI</td>\n",
       "      <td>NL</td>\n",
       "      <td>62</td>\n",
       "      <td>133</td>\n",
       "      <td>17</td>\n",
       "      <td>28</td>\n",
       "      <td>6</td>\n",
       "      <td>1</td>\n",
       "      <td>4</td>\n",
       "      <td>13.0</td>\n",
       "      <td>8</td>\n",
       "      <td>26.0</td>\n",
       "      <td>0.211</td>\n",
       "      <td>0.267</td>\n",
       "      <td>0.361</td>\n",
       "      <td>0.628</td>\n",
       "      <td>275000</td>\n",
       "    </tr>\n",
       "    <tr>\n",
       "      <th>1</th>\n",
       "      <td>aguilri01</td>\n",
       "      <td>1986</td>\n",
       "      <td>NYN</td>\n",
       "      <td>NL</td>\n",
       "      <td>32</td>\n",
       "      <td>51</td>\n",
       "      <td>4</td>\n",
       "      <td>8</td>\n",
       "      <td>0</td>\n",
       "      <td>0</td>\n",
       "      <td>2</td>\n",
       "      <td>6.0</td>\n",
       "      <td>3</td>\n",
       "      <td>12.0</td>\n",
       "      <td>0.157</td>\n",
       "      <td>0.204</td>\n",
       "      <td>0.275</td>\n",
       "      <td>0.479</td>\n",
       "      <td>130000</td>\n",
       "    </tr>\n",
       "    <tr>\n",
       "      <th>2</th>\n",
       "      <td>aldremi01</td>\n",
       "      <td>1986</td>\n",
       "      <td>SFN</td>\n",
       "      <td>NL</td>\n",
       "      <td>84</td>\n",
       "      <td>216</td>\n",
       "      <td>27</td>\n",
       "      <td>54</td>\n",
       "      <td>18</td>\n",
       "      <td>3</td>\n",
       "      <td>2</td>\n",
       "      <td>25.0</td>\n",
       "      <td>33</td>\n",
       "      <td>34.0</td>\n",
       "      <td>0.250</td>\n",
       "      <td>0.353</td>\n",
       "      <td>0.389</td>\n",
       "      <td>0.742</td>\n",
       "      <td>60000</td>\n",
       "    </tr>\n",
       "    <tr>\n",
       "      <th>3</th>\n",
       "      <td>allanan01</td>\n",
       "      <td>1986</td>\n",
       "      <td>CLE</td>\n",
       "      <td>AL</td>\n",
       "      <td>101</td>\n",
       "      <td>293</td>\n",
       "      <td>30</td>\n",
       "      <td>66</td>\n",
       "      <td>7</td>\n",
       "      <td>3</td>\n",
       "      <td>1</td>\n",
       "      <td>29.0</td>\n",
       "      <td>14</td>\n",
       "      <td>36.0</td>\n",
       "      <td>0.225</td>\n",
       "      <td>0.260</td>\n",
       "      <td>0.280</td>\n",
       "      <td>0.540</td>\n",
       "      <td>60000</td>\n",
       "    </tr>\n",
       "    <tr>\n",
       "      <th>4</th>\n",
       "      <td>almonbi01</td>\n",
       "      <td>1986</td>\n",
       "      <td>PIT</td>\n",
       "      <td>NL</td>\n",
       "      <td>102</td>\n",
       "      <td>196</td>\n",
       "      <td>29</td>\n",
       "      <td>43</td>\n",
       "      <td>7</td>\n",
       "      <td>2</td>\n",
       "      <td>7</td>\n",
       "      <td>27.0</td>\n",
       "      <td>30</td>\n",
       "      <td>38.0</td>\n",
       "      <td>0.219</td>\n",
       "      <td>0.319</td>\n",
       "      <td>0.383</td>\n",
       "      <td>0.702</td>\n",
       "      <td>260000</td>\n",
       "    </tr>\n",
       "  </tbody>\n",
       "</table>\n",
       "</div>"
      ],
      "text/plain": [
       "    playerID  yearID teamID_x lgID_x    G   AB   R   H  2B  3B  HR   RBI  BB  \\\n",
       "0  aguaylu01    1986      PHI     NL   62  133  17  28   6   1   4  13.0   8   \n",
       "1  aguilri01    1986      NYN     NL   32   51   4   8   0   0   2   6.0   3   \n",
       "2  aldremi01    1986      SFN     NL   84  216  27  54  18   3   2  25.0  33   \n",
       "3  allanan01    1986      CLE     AL  101  293  30  66   7   3   1  29.0  14   \n",
       "4  almonbi01    1986      PIT     NL  102  196  29  43   7   2   7  27.0  30   \n",
       "\n",
       "     SO    AVG    OBP    SLG    OPS  salary  \n",
       "0  26.0  0.211  0.267  0.361  0.628  275000  \n",
       "1  12.0  0.157  0.204  0.275  0.479  130000  \n",
       "2  34.0  0.250  0.353  0.389  0.742   60000  \n",
       "3  36.0  0.225  0.260  0.280  0.540   60000  \n",
       "4  38.0  0.219  0.319  0.383  0.702  260000  "
      ]
     },
     "execution_count": 2,
     "metadata": {},
     "output_type": "execute_result"
    }
   ],
   "source": [
    "df = pd.read_csv('../data/past_salaries_bat.csv').drop(['Unnamed: 0'], axis = 1)\n",
    "df.head()"
   ]
  },
  {
   "cell_type": "code",
   "execution_count": 3,
   "id": "b61110b5-ea85-48b2-874c-9b5b470bdd40",
   "metadata": {},
   "outputs": [
    {
     "data": {
      "text/plain": [
       "(14276, 19)"
      ]
     },
     "execution_count": 3,
     "metadata": {},
     "output_type": "execute_result"
    }
   ],
   "source": [
    "df.shape"
   ]
  },
  {
   "cell_type": "markdown",
   "id": "534bd3c9-21a6-427d-9c32-c4cf6c41ed24",
   "metadata": {},
   "source": [
    "## Create X and y Variables for Salary\n",
    "---"
   ]
  },
  {
   "cell_type": "code",
   "execution_count": 4,
   "id": "a60a588e-51d4-49ee-80bd-60f782962988",
   "metadata": {},
   "outputs": [
    {
     "data": {
      "text/html": [
       "<div>\n",
       "<style scoped>\n",
       "    .dataframe tbody tr th:only-of-type {\n",
       "        vertical-align: middle;\n",
       "    }\n",
       "\n",
       "    .dataframe tbody tr th {\n",
       "        vertical-align: top;\n",
       "    }\n",
       "\n",
       "    .dataframe thead th {\n",
       "        text-align: right;\n",
       "    }\n",
       "</style>\n",
       "<table border=\"1\" class=\"dataframe\">\n",
       "  <thead>\n",
       "    <tr style=\"text-align: right;\">\n",
       "      <th></th>\n",
       "      <th>AB</th>\n",
       "      <th>R</th>\n",
       "      <th>H</th>\n",
       "      <th>2B</th>\n",
       "      <th>3B</th>\n",
       "      <th>HR</th>\n",
       "      <th>RBI</th>\n",
       "      <th>BB</th>\n",
       "      <th>SO</th>\n",
       "      <th>AVG</th>\n",
       "      <th>OBP</th>\n",
       "      <th>SLG</th>\n",
       "      <th>OPS</th>\n",
       "    </tr>\n",
       "  </thead>\n",
       "  <tbody>\n",
       "    <tr>\n",
       "      <th>0</th>\n",
       "      <td>133</td>\n",
       "      <td>17</td>\n",
       "      <td>28</td>\n",
       "      <td>6</td>\n",
       "      <td>1</td>\n",
       "      <td>4</td>\n",
       "      <td>13.0</td>\n",
       "      <td>8</td>\n",
       "      <td>26.0</td>\n",
       "      <td>0.211</td>\n",
       "      <td>0.267</td>\n",
       "      <td>0.361</td>\n",
       "      <td>0.628</td>\n",
       "    </tr>\n",
       "    <tr>\n",
       "      <th>1</th>\n",
       "      <td>51</td>\n",
       "      <td>4</td>\n",
       "      <td>8</td>\n",
       "      <td>0</td>\n",
       "      <td>0</td>\n",
       "      <td>2</td>\n",
       "      <td>6.0</td>\n",
       "      <td>3</td>\n",
       "      <td>12.0</td>\n",
       "      <td>0.157</td>\n",
       "      <td>0.204</td>\n",
       "      <td>0.275</td>\n",
       "      <td>0.479</td>\n",
       "    </tr>\n",
       "    <tr>\n",
       "      <th>2</th>\n",
       "      <td>216</td>\n",
       "      <td>27</td>\n",
       "      <td>54</td>\n",
       "      <td>18</td>\n",
       "      <td>3</td>\n",
       "      <td>2</td>\n",
       "      <td>25.0</td>\n",
       "      <td>33</td>\n",
       "      <td>34.0</td>\n",
       "      <td>0.250</td>\n",
       "      <td>0.353</td>\n",
       "      <td>0.389</td>\n",
       "      <td>0.742</td>\n",
       "    </tr>\n",
       "    <tr>\n",
       "      <th>3</th>\n",
       "      <td>293</td>\n",
       "      <td>30</td>\n",
       "      <td>66</td>\n",
       "      <td>7</td>\n",
       "      <td>3</td>\n",
       "      <td>1</td>\n",
       "      <td>29.0</td>\n",
       "      <td>14</td>\n",
       "      <td>36.0</td>\n",
       "      <td>0.225</td>\n",
       "      <td>0.260</td>\n",
       "      <td>0.280</td>\n",
       "      <td>0.540</td>\n",
       "    </tr>\n",
       "    <tr>\n",
       "      <th>4</th>\n",
       "      <td>196</td>\n",
       "      <td>29</td>\n",
       "      <td>43</td>\n",
       "      <td>7</td>\n",
       "      <td>2</td>\n",
       "      <td>7</td>\n",
       "      <td>27.0</td>\n",
       "      <td>30</td>\n",
       "      <td>38.0</td>\n",
       "      <td>0.219</td>\n",
       "      <td>0.319</td>\n",
       "      <td>0.383</td>\n",
       "      <td>0.702</td>\n",
       "    </tr>\n",
       "  </tbody>\n",
       "</table>\n",
       "</div>"
      ],
      "text/plain": [
       "    AB   R   H  2B  3B  HR   RBI  BB    SO    AVG    OBP    SLG    OPS\n",
       "0  133  17  28   6   1   4  13.0   8  26.0  0.211  0.267  0.361  0.628\n",
       "1   51   4   8   0   0   2   6.0   3  12.0  0.157  0.204  0.275  0.479\n",
       "2  216  27  54  18   3   2  25.0  33  34.0  0.250  0.353  0.389  0.742\n",
       "3  293  30  66   7   3   1  29.0  14  36.0  0.225  0.260  0.280  0.540\n",
       "4  196  29  43   7   2   7  27.0  30  38.0  0.219  0.319  0.383  0.702"
      ]
     },
     "execution_count": 4,
     "metadata": {},
     "output_type": "execute_result"
    }
   ],
   "source": [
    "X = df.drop(columns = ['playerID', 'salary', 'teamID_x', 'lgID_x', 'yearID', 'G'])\n",
    "y = df['salary']\n",
    "X.head()"
   ]
  },
  {
   "cell_type": "markdown",
   "id": "591b523c-cbfa-463e-9915-4f459eec3d7b",
   "metadata": {},
   "source": [
    "## Train Test Split\n",
    "---"
   ]
  },
  {
   "cell_type": "code",
   "execution_count": 5,
   "id": "2e27f0c8-0cb9-46c7-8cff-c7135dda7142",
   "metadata": {},
   "outputs": [],
   "source": [
    "X_train, X_test, y_train, y_test = train_test_split(X, y, train_size = 0.3, random_state=42)"
   ]
  },
  {
   "cell_type": "markdown",
   "id": "6d070ab0-85f7-40b8-a00e-015d4ca7ecbf",
   "metadata": {},
   "source": [
    "## Preprocessing\n",
    "---\n",
    "### Standard Scaler"
   ]
  },
  {
   "cell_type": "code",
   "execution_count": 6,
   "id": "a56d9b03-3868-4d1d-af26-425476a7c6f0",
   "metadata": {},
   "outputs": [],
   "source": [
    "ss = StandardScaler()\n",
    "X_train_sc = ss.fit_transform(X_train)\n",
    "X_test_sc = ss.transform(X_test)"
   ]
  },
  {
   "cell_type": "markdown",
   "id": "a5309738-8d63-4189-96dd-fc106144166c",
   "metadata": {},
   "source": [
    "### PCA"
   ]
  },
  {
   "cell_type": "code",
   "execution_count": 7,
   "id": "f130350a-3fed-4a1a-a366-d7c867b85177",
   "metadata": {},
   "outputs": [],
   "source": [
    "pca = PCA(random_state=42)\n",
    "X_train_p = pca.fit_transform(X_train_sc)\n",
    "X_test_p = pca.transform(X_test_sc)"
   ]
  },
  {
   "cell_type": "markdown",
   "id": "0e71b545-23cb-4d65-979c-498ca64fd67d",
   "metadata": {},
   "source": [
    "## Functions Implemented\n",
    "---"
   ]
  },
  {
   "cell_type": "code",
   "execution_count": 8,
   "id": "f6015a53-fec3-4473-b572-044153319309",
   "metadata": {},
   "outputs": [],
   "source": [
    "def fit_models(x, y, x_test, y_test, model):\n",
    "    \"\"\"\n",
    "    Function fits specified model\n",
    "    Returns metrics for Train and Test Set\n",
    "    \"\"\"\n",
    "    model.fit(x, y)\n",
    "    \n",
    "    print()\n",
    "    print(f'Train')\n",
    "    reg_metrics(x, y, model)\n",
    "    \n",
    "    print()\n",
    "    print(f'Test')\n",
    "    reg_metrics(x_test, y_test, model)"
   ]
  },
  {
   "cell_type": "code",
   "execution_count": 9,
   "id": "3c6f9ece-6c44-43cb-b353-f444cb055926",
   "metadata": {},
   "outputs": [],
   "source": [
    "def reg_metrics(x, y, model):\n",
    "    \"\"\"\n",
    "    Function predicts using a specified model.\n",
    "    Returns MSE, RMSE, and R2\n",
    "    \"\"\"\n",
    "    \n",
    "    y_pred = model.predict(x)\n",
    "    resids = y - y_pred\n",
    "\n",
    "    mse = metrics.mean_squared_error(y, y_pred)\n",
    "    rmse = metrics.mean_squared_error(y, y_pred, squared = False)\n",
    "    score = model.score(x, y)\n",
    "    \n",
    "    print(model)\n",
    "    print(\"R2: \", score)\n",
    "    print(\"MSE: \", mse)\n",
    "    print(\"RMSE: \", rmse)"
   ]
  },
  {
   "cell_type": "markdown",
   "id": "8eedbffd-1b61-4de5-a074-b5ebccf14cf2",
   "metadata": {},
   "source": [
    "## Voting Model\n",
    "---"
   ]
  },
  {
   "cell_type": "code",
   "execution_count": 10,
   "id": "b4fec3cf-490f-4c9b-8b03-8ff43402d4cf",
   "metadata": {},
   "outputs": [],
   "source": [
    "l_alphas = np.logspace(-3, 1, 100)\n",
    "e_alphas = np.linspace(0.01, 1, 100)\n",
    "enet_ratio = 0.05\n",
    "r_alphas = np.logspace(0, 5, 220)"
   ]
  },
  {
   "cell_type": "code",
   "execution_count": 11,
   "id": "28853284-4378-412f-b2dc-08147b449b45",
   "metadata": {},
   "outputs": [],
   "source": [
    "vote = VotingRegressor([\n",
    "    ('ad', AdaBoostRegressor(random_state=42)),\n",
    "    ('rid', RidgeCV(r_alphas, scoring='r2', cv=5)),\n",
    "    ('las', LassoCV(alphas=l_alphas, cv=5, max_iter=50_000, n_jobs=-1)),\n",
    "    ('enet_model', ElasticNetCV(alphas=e_alphas, l1_ratio=enet_ratio, cv=5, max_iter=3000, n_jobs=-1))\n",
    "])"
   ]
  },
  {
   "cell_type": "code",
   "execution_count": 12,
   "id": "485825cd-9cf6-4af8-a6e5-127dd605833a",
   "metadata": {},
   "outputs": [
    {
     "name": "stdout",
     "output_type": "stream",
     "text": [
      "\n",
      "Train\n",
      "VotingRegressor(estimators=[('ad', AdaBoostRegressor(random_state=42)),\n",
      "                            ('rid',\n",
      "                             RidgeCV(alphas=array([1.00000000e+00, 1.05397680e+00, 1.11086709e+00, 1.17082814e+00,\n",
      "       1.23402569e+00, 1.30063444e+00, 1.37083853e+00, 1.44483200e+00,\n",
      "       1.52281940e+00, 1.60501632e+00, 1.69164996e+00, 1.78295980e+00,\n",
      "       1.87919826e+00, 1.98063137e+00, 2.08753951e+00, 2.20021820e+00,\n",
      "       2.31897894e...\n",
      "       0.34, 0.35, 0.36, 0.37, 0.38, 0.39, 0.4 , 0.41, 0.42, 0.43, 0.44,\n",
      "       0.45, 0.46, 0.47, 0.48, 0.49, 0.5 , 0.51, 0.52, 0.53, 0.54, 0.55,\n",
      "       0.56, 0.57, 0.58, 0.59, 0.6 , 0.61, 0.62, 0.63, 0.64, 0.65, 0.66,\n",
      "       0.67, 0.68, 0.69, 0.7 , 0.71, 0.72, 0.73, 0.74, 0.75, 0.76, 0.77,\n",
      "       0.78, 0.79, 0.8 , 0.81, 0.82, 0.83, 0.84, 0.85, 0.86, 0.87, 0.88,\n",
      "       0.89, 0.9 , 0.91, 0.92, 0.93, 0.94, 0.95, 0.96, 0.97, 0.98, 0.99,\n",
      "       1.  ]),\n",
      "                                          cv=5, l1_ratio=0.05, max_iter=3000,\n",
      "                                          n_jobs=-1))])\n",
      "R2:  0.09575404294059009\n",
      "MSE:  14083058056641.51\n",
      "RMSE:  3752740.073152084\n",
      "\n",
      "Test\n",
      "VotingRegressor(estimators=[('ad', AdaBoostRegressor(random_state=42)),\n",
      "                            ('rid',\n",
      "                             RidgeCV(alphas=array([1.00000000e+00, 1.05397680e+00, 1.11086709e+00, 1.17082814e+00,\n",
      "       1.23402569e+00, 1.30063444e+00, 1.37083853e+00, 1.44483200e+00,\n",
      "       1.52281940e+00, 1.60501632e+00, 1.69164996e+00, 1.78295980e+00,\n",
      "       1.87919826e+00, 1.98063137e+00, 2.08753951e+00, 2.20021820e+00,\n",
      "       2.31897894e...\n",
      "       0.34, 0.35, 0.36, 0.37, 0.38, 0.39, 0.4 , 0.41, 0.42, 0.43, 0.44,\n",
      "       0.45, 0.46, 0.47, 0.48, 0.49, 0.5 , 0.51, 0.52, 0.53, 0.54, 0.55,\n",
      "       0.56, 0.57, 0.58, 0.59, 0.6 , 0.61, 0.62, 0.63, 0.64, 0.65, 0.66,\n",
      "       0.67, 0.68, 0.69, 0.7 , 0.71, 0.72, 0.73, 0.74, 0.75, 0.76, 0.77,\n",
      "       0.78, 0.79, 0.8 , 0.81, 0.82, 0.83, 0.84, 0.85, 0.86, 0.87, 0.88,\n",
      "       0.89, 0.9 , 0.91, 0.92, 0.93, 0.94, 0.95, 0.96, 0.97, 0.98, 0.99,\n",
      "       1.  ]),\n",
      "                                          cv=5, l1_ratio=0.05, max_iter=3000,\n",
      "                                          n_jobs=-1))])\n",
      "R2:  0.07420917161190499\n",
      "MSE:  13976176023769.314\n",
      "RMSE:  3738472.4184844955\n"
     ]
    }
   ],
   "source": [
    "fit_models(X_train_p, y_train, X_test_p, y_test, vote)"
   ]
  },
  {
   "cell_type": "markdown",
   "id": "e631dabf-643d-4a31-a1fd-c18e6a089ad9",
   "metadata": {},
   "source": [
    "## Save Model to Pickle File\n",
    "---"
   ]
  },
  {
   "cell_type": "code",
   "execution_count": 13,
   "id": "0f01a56c-c0f7-4bd0-b671-003c0aa7c279",
   "metadata": {
    "tags": []
   },
   "outputs": [],
   "source": [
    "with open('../model/salary_model_b.pkl', 'wb') as pickle_out:\n",
    "    pickle_out = pickle.dump(vote, pickle_out)"
   ]
  },
  {
   "cell_type": "markdown",
   "id": "d455d8b5-e105-4b79-a050-830185c4ac00",
   "metadata": {},
   "source": [
    "## Use Forecasted Stats from Time Series to Predict Salary\n",
    "---\n",
    "*This will be used for app*"
   ]
  },
  {
   "cell_type": "code",
   "execution_count": 14,
   "id": "79585059-309e-4ed2-8980-77f272cbbcbd",
   "metadata": {},
   "outputs": [
    {
     "data": {
      "text/html": [
       "<div>\n",
       "<style scoped>\n",
       "    .dataframe tbody tr th:only-of-type {\n",
       "        vertical-align: middle;\n",
       "    }\n",
       "\n",
       "    .dataframe tbody tr th {\n",
       "        vertical-align: top;\n",
       "    }\n",
       "\n",
       "    .dataframe thead th {\n",
       "        text-align: right;\n",
       "    }\n",
       "</style>\n",
       "<table border=\"1\" class=\"dataframe\">\n",
       "  <thead>\n",
       "    <tr style=\"text-align: right;\">\n",
       "      <th></th>\n",
       "      <th>name</th>\n",
       "      <th>AB</th>\n",
       "      <th>R</th>\n",
       "      <th>H</th>\n",
       "      <th>2B</th>\n",
       "      <th>3B</th>\n",
       "      <th>HR</th>\n",
       "      <th>RBI</th>\n",
       "      <th>BB</th>\n",
       "      <th>SO</th>\n",
       "      <th>AVG</th>\n",
       "      <th>OBP</th>\n",
       "      <th>SLG</th>\n",
       "      <th>OPS</th>\n",
       "    </tr>\n",
       "  </thead>\n",
       "  <tbody>\n",
       "    <tr>\n",
       "      <th>0</th>\n",
       "      <td>Jose Abreu</td>\n",
       "      <td>300.0</td>\n",
       "      <td>73.0</td>\n",
       "      <td>75.0</td>\n",
       "      <td>0.0</td>\n",
       "      <td>0.0</td>\n",
       "      <td>0.0</td>\n",
       "      <td>75.0</td>\n",
       "      <td>0.0</td>\n",
       "      <td>75.0</td>\n",
       "      <td>0.264</td>\n",
       "      <td>0.326</td>\n",
       "      <td>0.485</td>\n",
       "      <td>0.812</td>\n",
       "    </tr>\n",
       "    <tr>\n",
       "      <th>1</th>\n",
       "      <td>Willy Adames</td>\n",
       "      <td>197.0</td>\n",
       "      <td>0.0</td>\n",
       "      <td>65.0</td>\n",
       "      <td>0.0</td>\n",
       "      <td>0.0</td>\n",
       "      <td>0.0</td>\n",
       "      <td>1.0</td>\n",
       "      <td>0.0</td>\n",
       "      <td>65.0</td>\n",
       "      <td>0.240</td>\n",
       "      <td>0.303</td>\n",
       "      <td>0.391</td>\n",
       "      <td>0.694</td>\n",
       "    </tr>\n",
       "    <tr>\n",
       "      <th>2</th>\n",
       "      <td>Ehire Adrianza</td>\n",
       "      <td>113.0</td>\n",
       "      <td>0.0</td>\n",
       "      <td>53.0</td>\n",
       "      <td>0.0</td>\n",
       "      <td>0.0</td>\n",
       "      <td>0.0</td>\n",
       "      <td>0.0</td>\n",
       "      <td>0.0</td>\n",
       "      <td>53.0</td>\n",
       "      <td>0.233</td>\n",
       "      <td>0.300</td>\n",
       "      <td>0.363</td>\n",
       "      <td>0.663</td>\n",
       "    </tr>\n",
       "    <tr>\n",
       "      <th>3</th>\n",
       "      <td>Jesus Aguilar</td>\n",
       "      <td>210.0</td>\n",
       "      <td>0.0</td>\n",
       "      <td>70.0</td>\n",
       "      <td>0.0</td>\n",
       "      <td>0.0</td>\n",
       "      <td>0.0</td>\n",
       "      <td>70.0</td>\n",
       "      <td>0.0</td>\n",
       "      <td>70.0</td>\n",
       "      <td>0.261</td>\n",
       "      <td>0.341</td>\n",
       "      <td>0.464</td>\n",
       "      <td>0.805</td>\n",
       "    </tr>\n",
       "    <tr>\n",
       "      <th>4</th>\n",
       "      <td>Nick Ahmed</td>\n",
       "      <td>225.0</td>\n",
       "      <td>0.0</td>\n",
       "      <td>75.0</td>\n",
       "      <td>0.0</td>\n",
       "      <td>0.0</td>\n",
       "      <td>0.0</td>\n",
       "      <td>0.0</td>\n",
       "      <td>0.0</td>\n",
       "      <td>75.0</td>\n",
       "      <td>0.226</td>\n",
       "      <td>0.282</td>\n",
       "      <td>0.362</td>\n",
       "      <td>0.644</td>\n",
       "    </tr>\n",
       "  </tbody>\n",
       "</table>\n",
       "</div>"
      ],
      "text/plain": [
       "             name     AB     R     H   2B   3B   HR   RBI   BB    SO    AVG  \\\n",
       "0      Jose Abreu  300.0  73.0  75.0  0.0  0.0  0.0  75.0  0.0  75.0  0.264   \n",
       "1    Willy Adames  197.0   0.0  65.0  0.0  0.0  0.0   1.0  0.0  65.0  0.240   \n",
       "2  Ehire Adrianza  113.0   0.0  53.0  0.0  0.0  0.0   0.0  0.0  53.0  0.233   \n",
       "3   Jesus Aguilar  210.0   0.0  70.0  0.0  0.0  0.0  70.0  0.0  70.0  0.261   \n",
       "4      Nick Ahmed  225.0   0.0  75.0  0.0  0.0  0.0   0.0  0.0  75.0  0.226   \n",
       "\n",
       "     OBP    SLG    OPS  \n",
       "0  0.326  0.485  0.812  \n",
       "1  0.303  0.391  0.694  \n",
       "2  0.300  0.363  0.663  \n",
       "3  0.341  0.464  0.805  \n",
       "4  0.282  0.362  0.644  "
      ]
     },
     "execution_count": 14,
     "metadata": {},
     "output_type": "execute_result"
    }
   ],
   "source": [
    "df = pd.read_csv('../data/player_forecasts_bat.csv').drop(['Unnamed: 0'], axis = 1)\n",
    "df.head()"
   ]
  },
  {
   "cell_type": "code",
   "execution_count": 15,
   "id": "83b4c577-4145-469f-bde8-537560e1460f",
   "metadata": {},
   "outputs": [],
   "source": [
    "X = df.drop(columns = ['name'])"
   ]
  },
  {
   "cell_type": "code",
   "execution_count": 16,
   "id": "b97bad37-a074-460d-9a0f-e39b07f663ef",
   "metadata": {},
   "outputs": [],
   "source": [
    "X = ss.transform(X)\n",
    "X = pca.transform(X)\n",
    "\n",
    "preds = vote.predict(X)\n",
    "\n",
    "pred_df = pd.DataFrame(preds, columns = ['salary'], index = df['name'])"
   ]
  },
  {
   "cell_type": "markdown",
   "id": "1a4a34af-177a-486a-8540-6c9e3f645e41",
   "metadata": {},
   "source": [
    "### Save to CSV and Pickle Files"
   ]
  },
  {
   "cell_type": "code",
   "execution_count": 17,
   "id": "a690a0c0-afc3-472f-bbbd-e1474c8d5848",
   "metadata": {
    "tags": []
   },
   "outputs": [],
   "source": [
    "pred_df.to_csv('../data/pred_salary_bat.csv')"
   ]
  },
  {
   "cell_type": "code",
   "execution_count": 18,
   "id": "6ae963b5-0529-484b-8a83-70dae19c1ad1",
   "metadata": {},
   "outputs": [],
   "source": [
    "with open('../pickles/pred_salary_bat.pkl', 'wb') as pickle_out:\n",
    "    pickle_out = pickle.dump(pred_df, pickle_out)"
   ]
  },
  {
   "cell_type": "markdown",
   "id": "2810b001-1120-47e4-9810-4d2bc16c7f98",
   "metadata": {},
   "source": [
    "## Recap\n",
    "---\n",
    "This notebook used hitorical stats and salary to predict the salary of batters. Using the model created, the salary was predicted on the forecasted stats of batters for use in the app."
   ]
  }
 ],
 "metadata": {
  "kernelspec": {
   "display_name": "Python [conda env:dsi] *",
   "language": "python",
   "name": "conda-env-dsi-py"
  },
  "language_info": {
   "codemirror_mode": {
    "name": "ipython",
    "version": 3
   },
   "file_extension": ".py",
   "mimetype": "text/x-python",
   "name": "python",
   "nbconvert_exporter": "python",
   "pygments_lexer": "ipython3",
   "version": "3.8.8"
  }
 },
 "nbformat": 4,
 "nbformat_minor": 5
}
