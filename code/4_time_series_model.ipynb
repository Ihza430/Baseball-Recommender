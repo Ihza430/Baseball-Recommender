{
 "cells": [
  {
   "cell_type": "markdown",
   "id": "103306ed-650f-4613-acdd-5f6c25031481",
   "metadata": {},
   "source": [
    "# Time Series Analysis"
   ]
  },
  {
   "cell_type": "code",
   "execution_count": null,
   "id": "3a1a70ef-e939-42fb-982c-8c955772f8c5",
   "metadata": {},
   "outputs": [],
   "source": [
    "import pandas as pd\n",
    "import numpy as np\n",
    "import matplotlib.pyplot as plt\n",
    "import seaborn as sns\n",
    "\n",
    "from statsmodels.tsa.statespace.sarimax import SARIMAX, SARIMAXResults\n",
    "from statsmodels.tsa.stattools import adfuller  \n",
    "from sklearn.model_selection import train_test_split\n",
    "\n",
    "import warnings\n",
    "warnings.simplefilter(action=\"ignore\")"
   ]
  },
  {
   "cell_type": "code",
   "execution_count": null,
   "id": "d4e94c35-64bc-450a-a3f7-0d27c221c7c3",
   "metadata": {},
   "outputs": [],
   "source": []
  },
  {
   "cell_type": "code",
   "execution_count": null,
   "id": "32788a1e-a186-4a25-a43b-ffbaf3c55978",
   "metadata": {},
   "outputs": [],
   "source": [
    "def model(df, target):\n",
    "    train, test = train_test_split(df[target], train_size = .65, shuffle = False)\n",
    "    \n",
    "    sarimax = Sarimax(endog = train, seasonal_order)"
   ]
  },
  {
   "cell_type": "code",
   "execution_count": null,
   "id": "3bef879b-af74-4c32-a4b2-6b6cf9dbcbd5",
   "metadata": {},
   "outputs": [],
   "source": []
  },
  {
   "cell_type": "code",
   "execution_count": null,
   "id": "1f8b59c6-ef87-4ff2-bd51-2fcdc2e10793",
   "metadata": {},
   "outputs": [],
   "source": []
  },
  {
   "cell_type": "code",
   "execution_count": null,
   "id": "0a2613c8-6173-43b3-9113-fb4cd715e266",
   "metadata": {},
   "outputs": [],
   "source": []
  },
  {
   "cell_type": "code",
   "execution_count": null,
   "id": "71fcb9a9-e4bd-4865-8284-0143bac2b1ce",
   "metadata": {},
   "outputs": [],
   "source": []
  },
  {
   "cell_type": "code",
   "execution_count": null,
   "id": "8b8c33a4-d832-4b1f-a82b-cf20e001e971",
   "metadata": {},
   "outputs": [],
   "source": []
  },
  {
   "cell_type": "code",
   "execution_count": null,
   "id": "2157d1c6-221b-4850-85e1-4706ec9ffc8d",
   "metadata": {},
   "outputs": [],
   "source": []
  }
 ],
 "metadata": {
  "kernelspec": {
   "display_name": "Python [conda env:dsi] *",
   "language": "python",
   "name": "conda-env-dsi-py"
  },
  "language_info": {
   "codemirror_mode": {
    "name": "ipython",
    "version": 3
   },
   "file_extension": ".py",
   "mimetype": "text/x-python",
   "name": "python",
   "nbconvert_exporter": "python",
   "pygments_lexer": "ipython3",
   "version": "3.8.8"
  }
 },
 "nbformat": 4,
 "nbformat_minor": 5
}
