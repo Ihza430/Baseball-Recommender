{
 "cells": [
  {
   "cell_type": "markdown",
   "id": "7c46a292-d09a-44fd-81a8-4592df0ac80e",
   "metadata": {},
   "source": [
    "# Main Code"
   ]
  },
  {
   "cell_type": "code",
   "execution_count": 2,
   "id": "41341511-3e4e-45d5-a277-43f3f52326a3",
   "metadata": {},
   "outputs": [],
   "source": [
    "import pandas as pd\n",
    "import requests\n",
    "from bs4 import BeautifulSoup"
   ]
  },
  {
   "cell_type": "code",
   "execution_count": 4,
   "id": "82d0df2e-1698-4501-9d36-c3c5915c59d0",
   "metadata": {},
   "outputs": [],
   "source": [
    "url = 'https://www.spotrac.com/mlb/rankings/2021/salary/batters/'"
   ]
  },
  {
   "cell_type": "code",
   "execution_count": 5,
   "id": "54a9b978-9b63-49bb-b4c8-4382912f6e55",
   "metadata": {},
   "outputs": [
    {
     "name": "stdout",
     "output_type": "stream",
     "text": [
      "200\n"
     ]
    }
   ],
   "source": [
    "res = requests.get(url)\n",
    "\n",
    "print(res.status_code)"
   ]
  },
  {
   "cell_type": "code",
   "execution_count": 6,
   "id": "910f2dec-2a87-410d-bcc2-a763d83c3fff",
   "metadata": {},
   "outputs": [],
   "source": [
    "soup = BeautifulSoup(res.content, 'lxml')"
   ]
  },
  {
   "cell_type": "code",
   "execution_count": 7,
   "id": "8b11b41c-ccbf-4b9d-8398-dd35befa209f",
   "metadata": {},
   "outputs": [],
   "source": [
    "table = soup.find('table')"
   ]
  },
  {
   "cell_type": "code",
   "execution_count": 10,
   "id": "83ed7037-4f86-4a0f-a0de-f0d167dce195",
   "metadata": {},
   "outputs": [
    {
     "data": {
      "text/html": [
       "<div>\n",
       "<style scoped>\n",
       "    .dataframe tbody tr th:only-of-type {\n",
       "        vertical-align: middle;\n",
       "    }\n",
       "\n",
       "    .dataframe tbody tr th {\n",
       "        vertical-align: top;\n",
       "    }\n",
       "\n",
       "    .dataframe thead th {\n",
       "        text-align: right;\n",
       "    }\n",
       "</style>\n",
       "<table border=\"1\" class=\"dataframe\">\n",
       "  <thead>\n",
       "    <tr style=\"text-align: right;\">\n",
       "      <th></th>\n",
       "      <th>name</th>\n",
       "      <th>salary</th>\n",
       "    </tr>\n",
       "  </thead>\n",
       "  <tbody>\n",
       "    <tr>\n",
       "      <th>0</th>\n",
       "      <td>Trout</td>\n",
       "      <td>$37,166,667</td>\n",
       "    </tr>\n",
       "    <tr>\n",
       "      <th>1</th>\n",
       "      <td>Arenado</td>\n",
       "      <td>$35,025,000</td>\n",
       "    </tr>\n",
       "    <tr>\n",
       "      <th>2</th>\n",
       "      <td>Machado</td>\n",
       "      <td>$32,000,000</td>\n",
       "    </tr>\n",
       "    <tr>\n",
       "      <th>3</th>\n",
       "      <td>Cabrera</td>\n",
       "      <td>$30,000,000</td>\n",
       "    </tr>\n",
       "    <tr>\n",
       "      <th>4</th>\n",
       "      <td>Altuve</td>\n",
       "      <td>$29,000,000</td>\n",
       "    </tr>\n",
       "    <tr>\n",
       "      <th>...</th>\n",
       "      <td>...</td>\n",
       "      <td>...</td>\n",
       "    </tr>\n",
       "    <tr>\n",
       "      <th>95</th>\n",
       "      <td>Moncada</td>\n",
       "      <td>$6,800,000</td>\n",
       "    </tr>\n",
       "    <tr>\n",
       "      <th>96</th>\n",
       "      <td>Lawlar</td>\n",
       "      <td>$6,713,300</td>\n",
       "    </tr>\n",
       "    <tr>\n",
       "      <th>97</th>\n",
       "      <td>Mayer</td>\n",
       "      <td>$6,664,000</td>\n",
       "    </tr>\n",
       "    <tr>\n",
       "      <th>98</th>\n",
       "      <td>Contreras</td>\n",
       "      <td>$6,650,000</td>\n",
       "    </tr>\n",
       "    <tr>\n",
       "      <th>99</th>\n",
       "      <td>Benintendi</td>\n",
       "      <td>$6,600,000</td>\n",
       "    </tr>\n",
       "  </tbody>\n",
       "</table>\n",
       "<p>100 rows × 2 columns</p>\n",
       "</div>"
      ],
      "text/plain": [
       "          name       salary\n",
       "0        Trout  $37,166,667\n",
       "1      Arenado  $35,025,000\n",
       "2      Machado  $32,000,000\n",
       "3      Cabrera  $30,000,000\n",
       "4       Altuve  $29,000,000\n",
       "..         ...          ...\n",
       "95     Moncada   $6,800,000\n",
       "96      Lawlar   $6,713,300\n",
       "97       Mayer   $6,664,000\n",
       "98   Contreras   $6,650,000\n",
       "99  Benintendi   $6,600,000\n",
       "\n",
       "[100 rows x 2 columns]"
      ]
     },
     "execution_count": 10,
     "metadata": {},
     "output_type": "execute_result"
    }
   ],
   "source": [
    "batters = []\n",
    "\n",
    "for row in table.find('tbody').find_all('tr'):\n",
    "    batter = {}\n",
    "    batter['name'] = row.find('span').text.strip()\n",
    "    batter['salary'] = row.find('span', {'class':'info'}).text.strip()\n",
    "    \n",
    "    batters.append(batter)\n",
    "    \n",
    "pd.DataFrame(batters)"
   ]
  },
  {
   "cell_type": "code",
   "execution_count": null,
   "id": "4162884d-04ac-422a-ac3d-7d9eef59780d",
   "metadata": {},
   "outputs": [],
   "source": []
  }
 ],
 "metadata": {
  "kernelspec": {
   "display_name": "Python [conda env:dsi] *",
   "language": "python",
   "name": "conda-env-dsi-py"
  },
  "language_info": {
   "codemirror_mode": {
    "name": "ipython",
    "version": 3
   },
   "file_extension": ".py",
   "mimetype": "text/x-python",
   "name": "python",
   "nbconvert_exporter": "python",
   "pygments_lexer": "ipython3",
   "version": "3.8.8"
  }
 },
 "nbformat": 4,
 "nbformat_minor": 5
}
