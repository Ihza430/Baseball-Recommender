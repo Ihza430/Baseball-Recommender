{
 "cells": [
  {
   "cell_type": "markdown",
   "id": "8ecb17b6-cf73-4d70-b658-3c4f40e4d5ca",
   "metadata": {},
   "source": [
    "# Predicting Salary Using Regression Model"
   ]
  },
  {
   "cell_type": "code",
   "execution_count": null,
   "id": "ec84f822-e6f7-47e9-b985-ef85437d2ce3",
   "metadata": {},
   "outputs": [],
   "source": []
  }
 ],
 "metadata": {
  "kernelspec": {
   "display_name": "Python [conda env:dsi] *",
   "language": "python",
   "name": "conda-env-dsi-py"
  },
  "language_info": {
   "codemirror_mode": {
    "name": "ipython",
    "version": 3
   },
   "file_extension": ".py",
   "mimetype": "text/x-python",
   "name": "python",
   "nbconvert_exporter": "python",
   "pygments_lexer": "ipython3",
   "version": "3.8.8"
  }
 },
 "nbformat": 4,
 "nbformat_minor": 5
}
