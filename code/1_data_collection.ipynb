{
 "cells": [
  {
   "cell_type": "markdown",
   "id": "f350e3d4-a4cb-4a34-a06a-6e11a0c39427",
   "metadata": {},
   "source": [
    "# Data Collection"
   ]
  },
  {
   "cell_type": "markdown",
   "id": "f87145db-f67e-4b4a-8739-f07f527106bb",
   "metadata": {},
   "source": [
    "## Import Libraries"
   ]
  },
  {
   "cell_type": "code",
   "execution_count": 1,
   "id": "9dc9c2df-4f15-48c3-b922-bbe488344616",
   "metadata": {},
   "outputs": [],
   "source": [
    "import pandas as pd\n",
    "import requests\n",
    "from bs4 import BeautifulSoup\n",
    "import time"
   ]
  },
  {
   "cell_type": "markdown",
   "id": "0f94e092-8122-4090-a7f9-3d07a1d59e4c",
   "metadata": {},
   "source": [
    "## Import Data for Player Names and ID's"
   ]
  },
  {
   "cell_type": "code",
   "execution_count": 2,
   "id": "f5536ba7-3171-4bd1-aafe-af01de40341d",
   "metadata": {},
   "outputs": [],
   "source": [
    "player_id = pd.read_csv('../SFBB Player ID Map - PLAYERIDMAP.csv')"
   ]
  },
  {
   "cell_type": "code",
   "execution_count": 3,
   "id": "ed980415-d54c-4737-8aef-cec0328689fd",
   "metadata": {},
   "outputs": [
    {
     "data": {
      "text/html": [
       "<div>\n",
       "<style scoped>\n",
       "    .dataframe tbody tr th:only-of-type {\n",
       "        vertical-align: middle;\n",
       "    }\n",
       "\n",
       "    .dataframe tbody tr th {\n",
       "        vertical-align: top;\n",
       "    }\n",
       "\n",
       "    .dataframe thead th {\n",
       "        text-align: right;\n",
       "    }\n",
       "</style>\n",
       "<table border=\"1\" class=\"dataframe\">\n",
       "  <thead>\n",
       "    <tr style=\"text-align: right;\">\n",
       "      <th></th>\n",
       "      <th>IDPLAYER</th>\n",
       "      <th>PLAYERNAME</th>\n",
       "      <th>BIRTHDATE</th>\n",
       "      <th>FIRSTNAME</th>\n",
       "      <th>LASTNAME</th>\n",
       "      <th>TEAM</th>\n",
       "      <th>LG</th>\n",
       "      <th>POS</th>\n",
       "      <th>IDFANGRAPHS</th>\n",
       "      <th>FANGRAPHSNAME</th>\n",
       "      <th>...</th>\n",
       "      <th>DRAFTKINGSNAME</th>\n",
       "      <th>OTTONEUID</th>\n",
       "      <th>HQID</th>\n",
       "      <th>RAZZBALLNAME</th>\n",
       "      <th>FANTRAXID</th>\n",
       "      <th>FANTRAXNAME</th>\n",
       "      <th>ROTOWIRENAME</th>\n",
       "      <th>ALLPOS</th>\n",
       "      <th>NFBCLASTFIRST</th>\n",
       "      <th>ACTIVE</th>\n",
       "    </tr>\n",
       "  </thead>\n",
       "  <tbody>\n",
       "    <tr>\n",
       "      <th>0</th>\n",
       "      <td>aardsda01</td>\n",
       "      <td>David Aardsma</td>\n",
       "      <td>12/27/1981</td>\n",
       "      <td>David</td>\n",
       "      <td>Aardsma</td>\n",
       "      <td>NaN</td>\n",
       "      <td>NaN</td>\n",
       "      <td>P</td>\n",
       "      <td>1902</td>\n",
       "      <td>David Aardsma</td>\n",
       "      <td>...</td>\n",
       "      <td>David Aardsma</td>\n",
       "      <td>4362.0</td>\n",
       "      <td>NaN</td>\n",
       "      <td>David Aardsma</td>\n",
       "      <td>NaN</td>\n",
       "      <td>NaN</td>\n",
       "      <td>David Aardsma</td>\n",
       "      <td>P</td>\n",
       "      <td>Aardsma, David</td>\n",
       "      <td>N</td>\n",
       "    </tr>\n",
       "    <tr>\n",
       "      <th>1</th>\n",
       "      <td>abadfe01</td>\n",
       "      <td>Fernando Abad</td>\n",
       "      <td>12/17/1985</td>\n",
       "      <td>Fernando</td>\n",
       "      <td>Abad</td>\n",
       "      <td>BAL</td>\n",
       "      <td>AL</td>\n",
       "      <td>P</td>\n",
       "      <td>4994</td>\n",
       "      <td>Fernando Abad</td>\n",
       "      <td>...</td>\n",
       "      <td>Fernando Abad</td>\n",
       "      <td>7372.0</td>\n",
       "      <td>3556.0</td>\n",
       "      <td>Fernando Abad</td>\n",
       "      <td>*01viz*</td>\n",
       "      <td>Fernando Abad</td>\n",
       "      <td>Fernando Abad</td>\n",
       "      <td>P</td>\n",
       "      <td>Abad, Fernando</td>\n",
       "      <td>Y</td>\n",
       "    </tr>\n",
       "    <tr>\n",
       "      <th>2</th>\n",
       "      <td>abbotco01</td>\n",
       "      <td>Cory Abbott</td>\n",
       "      <td>9/20/1995</td>\n",
       "      <td>Cory</td>\n",
       "      <td>Abbott</td>\n",
       "      <td>CHC</td>\n",
       "      <td>NL</td>\n",
       "      <td>P</td>\n",
       "      <td>sa3005305</td>\n",
       "      <td>Cory Abbott</td>\n",
       "      <td>...</td>\n",
       "      <td>NaN</td>\n",
       "      <td>NaN</td>\n",
       "      <td>6286.0</td>\n",
       "      <td>Cory Abbott</td>\n",
       "      <td>*04ef6*</td>\n",
       "      <td>Cory Abbott</td>\n",
       "      <td>Cory Abbott</td>\n",
       "      <td>P</td>\n",
       "      <td>Abbott, Cory</td>\n",
       "      <td>Y</td>\n",
       "    </tr>\n",
       "    <tr>\n",
       "      <th>3</th>\n",
       "      <td>abramcj01</td>\n",
       "      <td>CJ Abrams</td>\n",
       "      <td>10/3/2000</td>\n",
       "      <td>CJ</td>\n",
       "      <td>Abrams</td>\n",
       "      <td>SD</td>\n",
       "      <td>NL</td>\n",
       "      <td>SS</td>\n",
       "      <td>sa3010152</td>\n",
       "      <td>CJ Abrams</td>\n",
       "      <td>...</td>\n",
       "      <td>NaN</td>\n",
       "      <td>NaN</td>\n",
       "      <td>NaN</td>\n",
       "      <td>CJ Abrams</td>\n",
       "      <td>*04qk8*</td>\n",
       "      <td>CJ Abrams</td>\n",
       "      <td>CJ Abrams</td>\n",
       "      <td>SS</td>\n",
       "      <td>Abrams, CJ</td>\n",
       "      <td>Y</td>\n",
       "    </tr>\n",
       "    <tr>\n",
       "      <th>4</th>\n",
       "      <td>abreual01</td>\n",
       "      <td>Albert Abreu</td>\n",
       "      <td>9/26/1995</td>\n",
       "      <td>Albert</td>\n",
       "      <td>Abreu</td>\n",
       "      <td>NYY</td>\n",
       "      <td>AL</td>\n",
       "      <td>P</td>\n",
       "      <td>17485</td>\n",
       "      <td>Albert Abreu</td>\n",
       "      <td>...</td>\n",
       "      <td>NaN</td>\n",
       "      <td>NaN</td>\n",
       "      <td>5762.0</td>\n",
       "      <td>Albert Abreu</td>\n",
       "      <td>*03xy4*</td>\n",
       "      <td>Albert Abreu</td>\n",
       "      <td>Albert Abreu</td>\n",
       "      <td>P</td>\n",
       "      <td>Abreu, Albert</td>\n",
       "      <td>Y</td>\n",
       "    </tr>\n",
       "  </tbody>\n",
       "</table>\n",
       "<p>5 rows × 43 columns</p>\n",
       "</div>"
      ],
      "text/plain": [
       "    IDPLAYER     PLAYERNAME   BIRTHDATE FIRSTNAME LASTNAME TEAM   LG POS  \\\n",
       "0  aardsda01  David Aardsma  12/27/1981     David  Aardsma  NaN  NaN   P   \n",
       "1   abadfe01  Fernando Abad  12/17/1985  Fernando     Abad  BAL   AL   P   \n",
       "2  abbotco01    Cory Abbott   9/20/1995      Cory   Abbott  CHC   NL   P   \n",
       "3  abramcj01      CJ Abrams   10/3/2000        CJ   Abrams   SD   NL  SS   \n",
       "4  abreual01   Albert Abreu   9/26/1995    Albert    Abreu  NYY   AL   P   \n",
       "\n",
       "  IDFANGRAPHS  FANGRAPHSNAME  ...  DRAFTKINGSNAME OTTONEUID    HQID  \\\n",
       "0        1902  David Aardsma  ...   David Aardsma    4362.0     NaN   \n",
       "1        4994  Fernando Abad  ...   Fernando Abad    7372.0  3556.0   \n",
       "2   sa3005305    Cory Abbott  ...             NaN       NaN  6286.0   \n",
       "3   sa3010152      CJ Abrams  ...             NaN       NaN     NaN   \n",
       "4       17485   Albert Abreu  ...             NaN       NaN  5762.0   \n",
       "\n",
       "    RAZZBALLNAME FANTRAXID    FANTRAXNAME   ROTOWIRENAME ALLPOS  \\\n",
       "0  David Aardsma       NaN            NaN  David Aardsma      P   \n",
       "1  Fernando Abad   *01viz*  Fernando Abad  Fernando Abad      P   \n",
       "2    Cory Abbott   *04ef6*    Cory Abbott    Cory Abbott      P   \n",
       "3      CJ Abrams   *04qk8*      CJ Abrams      CJ Abrams     SS   \n",
       "4   Albert Abreu   *03xy4*   Albert Abreu   Albert Abreu      P   \n",
       "\n",
       "    NFBCLASTFIRST ACTIVE  \n",
       "0  Aardsma, David      N  \n",
       "1  Abad, Fernando      Y  \n",
       "2    Abbott, Cory      Y  \n",
       "3      Abrams, CJ      Y  \n",
       "4   Abreu, Albert      Y  \n",
       "\n",
       "[5 rows x 43 columns]"
      ]
     },
     "execution_count": 3,
     "metadata": {},
     "output_type": "execute_result"
    }
   ],
   "source": [
    "player_id.head()"
   ]
  },
  {
   "cell_type": "markdown",
   "id": "dee46ec9-2b2c-4d4d-a5fe-7c85034d59d2",
   "metadata": {},
   "source": [
    "### Specify which Columns and Rows Needed"
   ]
  },
  {
   "cell_type": "code",
   "execution_count": 4,
   "id": "cb55ecef-75f5-40bc-926b-0e0f0ed6e894",
   "metadata": {},
   "outputs": [],
   "source": [
    "mlb_id = player_id[['MLBID', 'FIRSTNAME', 'LASTNAME','POS', 'ACTIVE']]"
   ]
  },
  {
   "cell_type": "markdown",
   "id": "46455283-81ff-4c63-9087-985bc0b7c29f",
   "metadata": {},
   "source": [
    "#### Only Want Active Players"
   ]
  },
  {
   "cell_type": "code",
   "execution_count": 5,
   "id": "34ed69db-10d4-43aa-8265-98a5fb805b83",
   "metadata": {},
   "outputs": [],
   "source": [
    "active = mlb_id[mlb_id['ACTIVE'] == 'Y']"
   ]
  },
  {
   "cell_type": "code",
   "execution_count": 6,
   "id": "11e69080-1f6d-4e4e-bc32-fa3095077520",
   "metadata": {},
   "outputs": [],
   "source": [
    "active = active[active['POS']!= 'P']"
   ]
  },
  {
   "cell_type": "code",
   "execution_count": 7,
   "id": "1b236037-1c24-4f6d-af9a-5806213a7c57",
   "metadata": {},
   "outputs": [
    {
     "data": {
      "text/html": [
       "<div>\n",
       "<style scoped>\n",
       "    .dataframe tbody tr th:only-of-type {\n",
       "        vertical-align: middle;\n",
       "    }\n",
       "\n",
       "    .dataframe tbody tr th {\n",
       "        vertical-align: top;\n",
       "    }\n",
       "\n",
       "    .dataframe thead th {\n",
       "        text-align: right;\n",
       "    }\n",
       "</style>\n",
       "<table border=\"1\" class=\"dataframe\">\n",
       "  <thead>\n",
       "    <tr style=\"text-align: right;\">\n",
       "      <th></th>\n",
       "      <th>MLBID</th>\n",
       "      <th>FIRSTNAME</th>\n",
       "      <th>LASTNAME</th>\n",
       "      <th>POS</th>\n",
       "      <th>ACTIVE</th>\n",
       "    </tr>\n",
       "  </thead>\n",
       "  <tbody>\n",
       "    <tr>\n",
       "      <th>3</th>\n",
       "      <td>682928.0</td>\n",
       "      <td>CJ</td>\n",
       "      <td>Abrams</td>\n",
       "      <td>SS</td>\n",
       "      <td>Y</td>\n",
       "    </tr>\n",
       "    <tr>\n",
       "      <th>7</th>\n",
       "      <td>547989.0</td>\n",
       "      <td>Jose</td>\n",
       "      <td>Abreu</td>\n",
       "      <td>1B</td>\n",
       "      <td>Y</td>\n",
       "    </tr>\n",
       "    <tr>\n",
       "      <th>12</th>\n",
       "      <td>554429.0</td>\n",
       "      <td>Dustin</td>\n",
       "      <td>Ackley</td>\n",
       "      <td>1B</td>\n",
       "      <td>Y</td>\n",
       "    </tr>\n",
       "    <tr>\n",
       "      <th>13</th>\n",
       "      <td>660670.0</td>\n",
       "      <td>Ronald</td>\n",
       "      <td>Acuna</td>\n",
       "      <td>OF</td>\n",
       "      <td>Y</td>\n",
       "    </tr>\n",
       "    <tr>\n",
       "      <th>14</th>\n",
       "      <td>542436.0</td>\n",
       "      <td>Cristhian</td>\n",
       "      <td>Adames</td>\n",
       "      <td>2B</td>\n",
       "      <td>Y</td>\n",
       "    </tr>\n",
       "  </tbody>\n",
       "</table>\n",
       "</div>"
      ],
      "text/plain": [
       "       MLBID  FIRSTNAME LASTNAME POS ACTIVE\n",
       "3   682928.0         CJ   Abrams  SS      Y\n",
       "7   547989.0       Jose    Abreu  1B      Y\n",
       "12  554429.0     Dustin   Ackley  1B      Y\n",
       "13  660670.0     Ronald    Acuna  OF      Y\n",
       "14  542436.0  Cristhian   Adames  2B      Y"
      ]
     },
     "execution_count": 7,
     "metadata": {},
     "output_type": "execute_result"
    }
   ],
   "source": [
    "active.head()"
   ]
  },
  {
   "cell_type": "code",
   "execution_count": 8,
   "id": "588e23e4-05cb-48d5-9f7e-78e51c9ee3f2",
   "metadata": {},
   "outputs": [
    {
     "data": {
      "text/plain": [
       "MLBID        1\n",
       "FIRSTNAME    0\n",
       "LASTNAME     0\n",
       "POS          0\n",
       "ACTIVE       0\n",
       "dtype: int64"
      ]
     },
     "execution_count": 8,
     "metadata": {},
     "output_type": "execute_result"
    }
   ],
   "source": [
    "active.isnull().sum()"
   ]
  },
  {
   "cell_type": "code",
   "execution_count": 9,
   "id": "fa160401-f03f-458a-b6cf-4deabc61c653",
   "metadata": {},
   "outputs": [],
   "source": [
    "active = active.dropna()"
   ]
  },
  {
   "cell_type": "markdown",
   "id": "21905432-2d3f-4962-8f5f-f97a61a4cde4",
   "metadata": {},
   "source": [
    "#### Change ID to Integer"
   ]
  },
  {
   "cell_type": "code",
   "execution_count": 10,
   "id": "d8f2c02f-363b-4afc-bcac-6bd488254e1e",
   "metadata": {},
   "outputs": [],
   "source": [
    "active['MLBID'] = active['MLBID'].astype(int)"
   ]
  },
  {
   "cell_type": "markdown",
   "id": "fe0e43e6-a7b8-4bc7-a216-983224dd2199",
   "metadata": {},
   "source": [
    "#### Save Dataframe with Id and names"
   ]
  },
  {
   "cell_type": "code",
   "execution_count": 11,
   "id": "3a4222c5-d40d-4875-a9fd-5ef1608b72e6",
   "metadata": {},
   "outputs": [],
   "source": [
    "active.to_csv('../mlb_players.csv')"
   ]
  },
  {
   "cell_type": "markdown",
   "id": "428d0490-726b-4c87-9886-cfb7ee08569b",
   "metadata": {},
   "source": [
    "## Function for Collecting Stats from Baseballsavant.mlb.com"
   ]
  },
  {
   "cell_type": "code",
   "execution_count": 12,
   "id": "e0b05a5a-e9da-45d5-b30d-f20325b14363",
   "metadata": {},
   "outputs": [],
   "source": [
    "def get_stats(mlbid, first_name, last_name):\n",
    "    \"\"\"\n",
    "    This function collects the gamelog stats of every \n",
    "    game for that season for the specified player from the arguments.\n",
    "    \n",
    "    Returns csv file named after the player of their stats to specified location.\n",
    "    \"\"\"\n",
    "    \n",
    "    #This is the url to the website\n",
    "    base_url = 'https://baseballsavant.mlb.com/savant-player/'\n",
    "    \n",
    "    #This string will be used to specifiy the player\n",
    "    player_name = first_name.lower() +'-'+last_name.lower()+str(mlbid)\n",
    "    \n",
    "    #Url for the page with the stats\n",
    "    url = base_url + player_name + '?stats=gamelogs-r-hitting-mlb&season=2021'\n",
    "    \n",
    "    #Requests for the page\n",
    "    res = requests.get(url)\n",
    "    \n",
    "    if res.status_code != 200:\n",
    "        raise Exception('API response: {}'.format(res.status_code))   \n",
    "        #Modified from https://pypi.org/project/ratelimit/\n",
    "        \n",
    "    else:\n",
    "    \n",
    "        soup = BeautifulSoup(res.content, 'lxml')\n",
    "\n",
    "        player_stats = []\n",
    "\n",
    "        try:\n",
    "\n",
    "            #Find the table with desired stats\n",
    "            table = soup.find('div', {'id':['gamelogs-mlb']})\n",
    "\n",
    "            #Finds all the columns needed\n",
    "            for row in table.find('tbody').find_all('tr'):\n",
    "\n",
    "                td_tags = row.find_all('td')\n",
    "                for index, td in enumerate(td_tags):\n",
    "                    stats = {}\n",
    "                    stats['date'] = td_tags[0].text.strip()\n",
    "                    stats['PA'] = td_tags[3].text.strip()\n",
    "                    stats['AB'] = td_tags[4].text.strip()\n",
    "                    stats['R'] = td_tags[5].text.strip()\n",
    "                    stats['H'] = td_tags[6].text.strip()\n",
    "                    stats['2B'] = td_tags[7].text.strip()\n",
    "                    stats['3B'] = td_tags[8].text.strip()\n",
    "                    stats['HR'] = td_tags[9].text.strip()\n",
    "                    stats['RBI'] = td_tags[10].text.strip()\n",
    "                    stats['BB'] = td_tags[11].text.strip()\n",
    "                    stats['SO'] = td_tags[12].text.strip()\n",
    "                    stats['AVG'] = td_tags[16].text.strip()\n",
    "                    stats['OBP'] = td_tags[17].text.strip()\n",
    "                    stats['SLG'] = td_tags[18].text.strip()\n",
    "                    stats['OPS'] = td_tags[19].text.strip()\n",
    "\n",
    "                #Appends the row of stats to the list\n",
    "                player_stats.append(stats)\n",
    "\n",
    "            #Creates data frame of all stats\n",
    "            df = pd.DataFrame(player_stats)\n",
    "\n",
    "            #Saves Dataframe to a file with player name\n",
    "            df.to_csv(f'./datasets/{first_name}-{last_name}-{mlbid}.csv')\n",
    "\n",
    "            time.sleep(1) #suspends execution for 1 second to prevent too many requests\n",
    "            #inspired from https://realpython.com/python-sleep/\n",
    "\n",
    "        except (AttributeError, IndexError):\n",
    "            # Minor league players have different table name. Shohei is a two way player.\n",
    "            print(f'{first_name} {last_name}: Minor League Player or Shohei Ohtani!')\n"
   ]
  },
  {
   "cell_type": "markdown",
   "id": "33b7f99a-e3c8-4cb9-8437-edc0bb73f9de",
   "metadata": {},
   "source": [
    "## Get Stats for All Active Non-Pitcher Players"
   ]
  },
  {
   "cell_type": "code",
   "execution_count": 13,
   "id": "60cfd0fd-8986-4249-936e-9392b023d2d4",
   "metadata": {
    "tags": []
   },
   "outputs": [
    {
     "name": "stdout",
     "output_type": "stream",
     "text": [
      "CJ Abrams: Minor League Player or Shohei Ohtani!\n",
      "J.J. Bleday: Minor League Player or Shohei Ohtani!\n",
      "Zack Cox: Minor League Player or Shohei Ohtani!\n",
      "Yusniel Diaz: Minor League Player or Shohei Ohtani!\n",
      "Jeter Downs: Minor League Player or Shohei Ohtani!\n",
      "Lucius Fox: Minor League Player or Shohei Ohtani!\n",
      "Tyler Freeman: Minor League Player or Shohei Ohtani!\n",
      "Anthony Garcia: Minor League Player or Shohei Ohtani!\n",
      "Riley Greene: Minor League Player or Shohei Ohtani!\n",
      "Reese Havens: Minor League Player or Shohei Ohtani!\n",
      "Kyle Holder: Minor League Player or Shohei Ohtani!\n",
      "Ryan Howard: Minor League Player or Shohei Ohtani!\n",
      "James Jones: Minor League Player or Shohei Ohtani!\n",
      "Nolan Jones: Minor League Player or Shohei Ohtani!\n",
      "Josh Jung: Minor League Player or Shohei Ohtani!\n",
      "Royce Lewis: Minor League Player or Shohei Ohtani!\n",
      "Kevin Maitan: Minor League Player or Shohei Ohtani!\n",
      "Austin Martin: Minor League Player or Shohei Ohtani!\n",
      "Ernesto Mejia: Minor League Player or Shohei Ohtani!\n",
      "Victor Victor Mesa: Minor League Player or Shohei Ohtani!\n",
      "Shohei Ohtani: Minor League Player or Shohei Ohtani!\n",
      "Dorssys Paulino: Minor League Player or Shohei Ohtani!\n",
      "Delvin Perez: Minor League Player or Shohei Ohtani!\n",
      "D.J. Peterson: Minor League Player or Shohei Ohtani!\n",
      "Heliot Ramos: Minor League Player or Shohei Ohtani!\n",
      "Jomar Reyes: Minor League Player or Shohei Ohtani!\n",
      "Kristian Robinson: Minor League Player or Shohei Ohtani!\n",
      "Julio Rodriguez: Minor League Player or Shohei Ohtani!\n",
      "Blake Rutherford: Minor League Player or Shohei Ohtani!\n",
      "Adley Rutschman: Minor League Player or Shohei Ohtani!\n",
      "Spencer Torkelson: Minor League Player or Shohei Ohtani!\n",
      "Forrest Wall: Minor League Player or Shohei Ohtani!\n",
      "Drew Ward: Minor League Player or Shohei Ohtani!\n",
      "Drew Waters: Minor League Player or Shohei Ohtani!\n",
      "Bobby Witt Jr.: Minor League Player or Shohei Ohtani!\n",
      "CPU times: user 13min 5s, sys: 12.5 s, total: 13min 18s\n",
      "Wall time: 2h 55min 10s\n"
     ]
    }
   ],
   "source": [
    "%%time\n",
    "for index, row in active.iterrows():\n",
    "    \n",
    "    mlbid = row['MLBID']\n",
    "    first = row['FIRSTNAME']\n",
    "    last = row['LASTNAME']\n",
    "    pos = row['POS']\n",
    "\n",
    "    get_stats(mlbid, first, last)\n",
    "    \n",
    "# Copied from https://stackoverflow.com/questions/16476924/how-to-iterate-over-rows-in-a-dataframe-in-pandas"
   ]
  }
 ],
 "metadata": {
  "kernelspec": {
   "display_name": "Python [conda env:dsi] *",
   "language": "python",
   "name": "conda-env-dsi-py"
  },
  "language_info": {
   "codemirror_mode": {
    "name": "ipython",
    "version": 3
   },
   "file_extension": ".py",
   "mimetype": "text/x-python",
   "name": "python",
   "nbconvert_exporter": "python",
   "pygments_lexer": "ipython3",
   "version": "3.8.8"
  }
 },
 "nbformat": 4,
 "nbformat_minor": 5
}
