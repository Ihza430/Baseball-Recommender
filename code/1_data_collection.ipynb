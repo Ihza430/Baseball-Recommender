{
 "cells": [
  {
   "cell_type": "markdown",
   "id": "13a2d876-631d-48c2-89eb-58c00be23c91",
   "metadata": {},
   "source": [
    "# Data Collection\n",
    "---\n",
    "This notebook aims to collect data from various websites for the prupose of exploratory data analysis (EDA) and modeling in future notebooks."
   ]
  },
  {
   "cell_type": "markdown",
   "id": "8797fb28-7186-41cf-812a-128981db6547",
   "metadata": {},
   "source": [
    "## Import Libraries"
   ]
  },
  {
   "cell_type": "code",
   "execution_count": 3,
   "id": "9725bfcb-9843-4f09-a836-f4c5b62339a3",
   "metadata": {},
   "outputs": [],
   "source": [
    "import pandas as pd\n",
    "import requests\n",
    "from bs4 import BeautifulSoup"
   ]
  },
  {
   "cell_type": "markdown",
   "id": "1f2d8fb6-4e1b-484f-98c0-499abf0d4165",
   "metadata": {},
   "source": [
    "## Using Requests Library"
   ]
  },
  {
   "cell_type": "code",
   "execution_count": 4,
   "id": "a05f028a-a0b5-45e3-b1d3-99ba9d56f148",
   "metadata": {},
   "outputs": [
    {
     "name": "stdout",
     "output_type": "stream",
     "text": [
      "200\n"
     ]
    }
   ],
   "source": [
    "url = 'https://www.baseball-reference.com/players/f/freemfr01.shtml'\n",
    "\n",
    "res = requests.get(url)\n",
    "\n",
    "print(res.status_code)\n",
    "\n",
    "soup = BeautifulSoup(res.content, 'lxml')"
   ]
  },
  {
   "cell_type": "code",
   "execution_count": null,
   "id": "a949b97c-f518-47b4-80a7-8737f0b95b33",
   "metadata": {},
   "outputs": [],
   "source": []
  }
 ],
 "metadata": {
  "kernelspec": {
   "display_name": "Python [conda env:dsi] *",
   "language": "python",
   "name": "conda-env-dsi-py"
  },
  "language_info": {
   "codemirror_mode": {
    "name": "ipython",
    "version": 3
   },
   "file_extension": ".py",
   "mimetype": "text/x-python",
   "name": "python",
   "nbconvert_exporter": "python",
   "pygments_lexer": "ipython3",
   "version": "3.8.8"
  }
 },
 "nbformat": 4,
 "nbformat_minor": 5
}
