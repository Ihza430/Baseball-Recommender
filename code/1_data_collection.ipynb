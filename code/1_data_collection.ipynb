{
 "cells": [
  {
   "cell_type": "markdown",
   "id": "13a2d876-631d-48c2-89eb-58c00be23c91",
   "metadata": {},
   "source": [
    "# Data Collection\n",
    "---\n",
    "This notebook aims to collect data from various websites for the prupose of exploratory data analysis (EDA) and modeling in future notebooks."
   ]
  },
  {
   "cell_type": "code",
   "execution_count": null,
   "id": "9334cb6a-d4b9-4d8c-979a-3748bf188bb3",
   "metadata": {},
   "outputs": [],
   "source": []
  }
 ],
 "metadata": {
  "kernelspec": {
   "display_name": "Python [conda env:dsi] *",
   "language": "python",
   "name": "conda-env-dsi-py"
  },
  "language_info": {
   "codemirror_mode": {
    "name": "ipython",
    "version": 3
   },
   "file_extension": ".py",
   "mimetype": "text/x-python",
   "name": "python",
   "nbconvert_exporter": "python",
   "pygments_lexer": "ipython3",
   "version": "3.8.8"
  }
 },
 "nbformat": 4,
 "nbformat_minor": 5
}
