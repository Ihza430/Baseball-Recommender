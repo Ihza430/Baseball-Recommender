{
 "cells": [
  {
   "cell_type": "code",
   "execution_count": 1,
   "id": "308fdebc-4741-4cb6-86e1-86a632c242e0",
   "metadata": {},
   "outputs": [],
   "source": [
    "import pandas as pd\n",
    "import numpy as np\n",
    "\n",
    "from sklearn import metrics\n",
    "from sklearn.model_selection import train_test_split, GridSearchCV\n",
    "from sklearn.linear_model import LinearRegression, RidgeCV, LassoCV, ElasticNetCV, SGDRegressor\n",
    "from sklearn.preprocessing import StandardScaler\n",
    "from sklearn.decomposition import PCA\n",
    "\n",
    "from sklearn.experimental import enable_hist_gradient_boosting\n",
    "from sklearn.neighbors import KNeighborsRegressor\n",
    "from sklearn.ensemble import AdaBoostRegressor, GradientBoostingRegressor, HistGradientBoostingRegressor, RandomForestRegressor\n",
    "from sklearn.svm import SVR\n",
    "from sklearn.tree import DecisionTreeRegressor"
   ]
  },
  {
   "cell_type": "code",
   "execution_count": 2,
   "id": "859d506d-13da-4c18-aae1-b1bba6b5b775",
   "metadata": {},
   "outputs": [
    {
     "data": {
      "text/html": [
       "<div>\n",
       "<style scoped>\n",
       "    .dataframe tbody tr th:only-of-type {\n",
       "        vertical-align: middle;\n",
       "    }\n",
       "\n",
       "    .dataframe tbody tr th {\n",
       "        vertical-align: top;\n",
       "    }\n",
       "\n",
       "    .dataframe thead th {\n",
       "        text-align: right;\n",
       "    }\n",
       "</style>\n",
       "<table border=\"1\" class=\"dataframe\">\n",
       "  <thead>\n",
       "    <tr style=\"text-align: right;\">\n",
       "      <th></th>\n",
       "      <th>playerID</th>\n",
       "      <th>yearID</th>\n",
       "      <th>teamID</th>\n",
       "      <th>lgID</th>\n",
       "      <th>G</th>\n",
       "      <th>AB</th>\n",
       "      <th>R</th>\n",
       "      <th>H</th>\n",
       "      <th>2B</th>\n",
       "      <th>3B</th>\n",
       "      <th>...</th>\n",
       "      <th>SB</th>\n",
       "      <th>CS</th>\n",
       "      <th>BB</th>\n",
       "      <th>SO</th>\n",
       "      <th>IBB</th>\n",
       "      <th>HBP</th>\n",
       "      <th>SH</th>\n",
       "      <th>SF</th>\n",
       "      <th>GIDP</th>\n",
       "      <th>BA</th>\n",
       "    </tr>\n",
       "  </thead>\n",
       "  <tbody>\n",
       "    <tr>\n",
       "      <th>0</th>\n",
       "      <td>aardsda01</td>\n",
       "      <td>2015</td>\n",
       "      <td>ATL</td>\n",
       "      <td>NL</td>\n",
       "      <td>33</td>\n",
       "      <td>1</td>\n",
       "      <td>0</td>\n",
       "      <td>0</td>\n",
       "      <td>0</td>\n",
       "      <td>0</td>\n",
       "      <td>...</td>\n",
       "      <td>0.0</td>\n",
       "      <td>0.0</td>\n",
       "      <td>0</td>\n",
       "      <td>1.0</td>\n",
       "      <td>0.0</td>\n",
       "      <td>0.0</td>\n",
       "      <td>0.0</td>\n",
       "      <td>0.0</td>\n",
       "      <td>0.0</td>\n",
       "      <td>0.00</td>\n",
       "    </tr>\n",
       "    <tr>\n",
       "      <th>1</th>\n",
       "      <td>abadfe01</td>\n",
       "      <td>2015</td>\n",
       "      <td>OAK</td>\n",
       "      <td>AL</td>\n",
       "      <td>62</td>\n",
       "      <td>0</td>\n",
       "      <td>0</td>\n",
       "      <td>0</td>\n",
       "      <td>0</td>\n",
       "      <td>0</td>\n",
       "      <td>...</td>\n",
       "      <td>0.0</td>\n",
       "      <td>0.0</td>\n",
       "      <td>0</td>\n",
       "      <td>0.0</td>\n",
       "      <td>0.0</td>\n",
       "      <td>0.0</td>\n",
       "      <td>0.0</td>\n",
       "      <td>0.0</td>\n",
       "      <td>0.0</td>\n",
       "      <td>0.00</td>\n",
       "    </tr>\n",
       "    <tr>\n",
       "      <th>2</th>\n",
       "      <td>abreujo02</td>\n",
       "      <td>2015</td>\n",
       "      <td>CHA</td>\n",
       "      <td>AL</td>\n",
       "      <td>154</td>\n",
       "      <td>613</td>\n",
       "      <td>88</td>\n",
       "      <td>178</td>\n",
       "      <td>34</td>\n",
       "      <td>3</td>\n",
       "      <td>...</td>\n",
       "      <td>0.0</td>\n",
       "      <td>0.0</td>\n",
       "      <td>39</td>\n",
       "      <td>140.0</td>\n",
       "      <td>11.0</td>\n",
       "      <td>15.0</td>\n",
       "      <td>0.0</td>\n",
       "      <td>1.0</td>\n",
       "      <td>16.0</td>\n",
       "      <td>0.29</td>\n",
       "    </tr>\n",
       "  </tbody>\n",
       "</table>\n",
       "<p>3 rows × 22 columns</p>\n",
       "</div>"
      ],
      "text/plain": [
       "    playerID  yearID teamID lgID    G   AB   R    H  2B  3B  ...   SB   CS  \\\n",
       "0  aardsda01    2015    ATL   NL   33    1   0    0   0   0  ...  0.0  0.0   \n",
       "1   abadfe01    2015    OAK   AL   62    0   0    0   0   0  ...  0.0  0.0   \n",
       "2  abreujo02    2015    CHA   AL  154  613  88  178  34   3  ...  0.0  0.0   \n",
       "\n",
       "   BB     SO   IBB   HBP   SH   SF  GIDP    BA  \n",
       "0   0    1.0   0.0   0.0  0.0  0.0   0.0  0.00  \n",
       "1   0    0.0   0.0   0.0  0.0  0.0   0.0  0.00  \n",
       "2  39  140.0  11.0  15.0  0.0  1.0  16.0  0.29  \n",
       "\n",
       "[3 rows x 22 columns]"
      ]
     },
     "execution_count": 2,
     "metadata": {},
     "output_type": "execute_result"
    }
   ],
   "source": [
    "df = pd.read_csv('../data/clean/bat.csv').drop(['Unnamed: 0'], axis = 1)\n",
    "df.head(3)"
   ]
  },
  {
   "cell_type": "code",
   "execution_count": 24,
   "id": "b61110b5-ea85-48b2-874c-9b5b470bdd40",
   "metadata": {},
   "outputs": [
    {
     "data": {
      "text/plain": [
       "(8927, 22)"
      ]
     },
     "execution_count": 24,
     "metadata": {},
     "output_type": "execute_result"
    }
   ],
   "source": [
    "df.shape"
   ]
  },
  {
   "cell_type": "markdown",
   "id": "534bd3c9-21a6-427d-9c32-c4cf6c41ed24",
   "metadata": {},
   "source": [
    "## Create X and y variables for Batting Average"
   ]
  },
  {
   "cell_type": "code",
   "execution_count": 3,
   "id": "a60a588e-51d4-49ee-80bd-60f782962988",
   "metadata": {},
   "outputs": [
    {
     "data": {
      "text/html": [
       "<div>\n",
       "<style scoped>\n",
       "    .dataframe tbody tr th:only-of-type {\n",
       "        vertical-align: middle;\n",
       "    }\n",
       "\n",
       "    .dataframe tbody tr th {\n",
       "        vertical-align: top;\n",
       "    }\n",
       "\n",
       "    .dataframe thead th {\n",
       "        text-align: right;\n",
       "    }\n",
       "</style>\n",
       "<table border=\"1\" class=\"dataframe\">\n",
       "  <thead>\n",
       "    <tr style=\"text-align: right;\">\n",
       "      <th></th>\n",
       "      <th>G</th>\n",
       "      <th>AB</th>\n",
       "      <th>R</th>\n",
       "      <th>H</th>\n",
       "      <th>2B</th>\n",
       "      <th>3B</th>\n",
       "      <th>HR</th>\n",
       "      <th>RBI</th>\n",
       "      <th>SB</th>\n",
       "      <th>CS</th>\n",
       "      <th>BB</th>\n",
       "      <th>SO</th>\n",
       "      <th>IBB</th>\n",
       "      <th>HBP</th>\n",
       "      <th>SH</th>\n",
       "      <th>SF</th>\n",
       "      <th>GIDP</th>\n",
       "    </tr>\n",
       "  </thead>\n",
       "  <tbody>\n",
       "    <tr>\n",
       "      <th>0</th>\n",
       "      <td>33</td>\n",
       "      <td>1</td>\n",
       "      <td>0</td>\n",
       "      <td>0</td>\n",
       "      <td>0</td>\n",
       "      <td>0</td>\n",
       "      <td>0</td>\n",
       "      <td>0.0</td>\n",
       "      <td>0.0</td>\n",
       "      <td>0.0</td>\n",
       "      <td>0</td>\n",
       "      <td>1.0</td>\n",
       "      <td>0.0</td>\n",
       "      <td>0.0</td>\n",
       "      <td>0.0</td>\n",
       "      <td>0.0</td>\n",
       "      <td>0.0</td>\n",
       "    </tr>\n",
       "    <tr>\n",
       "      <th>1</th>\n",
       "      <td>62</td>\n",
       "      <td>0</td>\n",
       "      <td>0</td>\n",
       "      <td>0</td>\n",
       "      <td>0</td>\n",
       "      <td>0</td>\n",
       "      <td>0</td>\n",
       "      <td>0.0</td>\n",
       "      <td>0.0</td>\n",
       "      <td>0.0</td>\n",
       "      <td>0</td>\n",
       "      <td>0.0</td>\n",
       "      <td>0.0</td>\n",
       "      <td>0.0</td>\n",
       "      <td>0.0</td>\n",
       "      <td>0.0</td>\n",
       "      <td>0.0</td>\n",
       "    </tr>\n",
       "    <tr>\n",
       "      <th>2</th>\n",
       "      <td>154</td>\n",
       "      <td>613</td>\n",
       "      <td>88</td>\n",
       "      <td>178</td>\n",
       "      <td>34</td>\n",
       "      <td>3</td>\n",
       "      <td>30</td>\n",
       "      <td>101.0</td>\n",
       "      <td>0.0</td>\n",
       "      <td>0.0</td>\n",
       "      <td>39</td>\n",
       "      <td>140.0</td>\n",
       "      <td>11.0</td>\n",
       "      <td>15.0</td>\n",
       "      <td>0.0</td>\n",
       "      <td>1.0</td>\n",
       "      <td>16.0</td>\n",
       "    </tr>\n",
       "    <tr>\n",
       "      <th>3</th>\n",
       "      <td>11</td>\n",
       "      <td>0</td>\n",
       "      <td>0</td>\n",
       "      <td>0</td>\n",
       "      <td>0</td>\n",
       "      <td>0</td>\n",
       "      <td>0</td>\n",
       "      <td>0.0</td>\n",
       "      <td>0.0</td>\n",
       "      <td>0.0</td>\n",
       "      <td>0</td>\n",
       "      <td>0.0</td>\n",
       "      <td>0.0</td>\n",
       "      <td>0.0</td>\n",
       "      <td>0.0</td>\n",
       "      <td>0.0</td>\n",
       "      <td>0.0</td>\n",
       "    </tr>\n",
       "    <tr>\n",
       "      <th>4</th>\n",
       "      <td>85</td>\n",
       "      <td>186</td>\n",
       "      <td>22</td>\n",
       "      <td>40</td>\n",
       "      <td>8</td>\n",
       "      <td>1</td>\n",
       "      <td>6</td>\n",
       "      <td>19.0</td>\n",
       "      <td>2.0</td>\n",
       "      <td>2.0</td>\n",
       "      <td>14</td>\n",
       "      <td>38.0</td>\n",
       "      <td>0.0</td>\n",
       "      <td>1.0</td>\n",
       "      <td>3.0</td>\n",
       "      <td>3.0</td>\n",
       "      <td>3.0</td>\n",
       "    </tr>\n",
       "  </tbody>\n",
       "</table>\n",
       "</div>"
      ],
      "text/plain": [
       "     G   AB   R    H  2B  3B  HR    RBI   SB   CS  BB     SO   IBB   HBP   SH  \\\n",
       "0   33    1   0    0   0   0   0    0.0  0.0  0.0   0    1.0   0.0   0.0  0.0   \n",
       "1   62    0   0    0   0   0   0    0.0  0.0  0.0   0    0.0   0.0   0.0  0.0   \n",
       "2  154  613  88  178  34   3  30  101.0  0.0  0.0  39  140.0  11.0  15.0  0.0   \n",
       "3   11    0   0    0   0   0   0    0.0  0.0  0.0   0    0.0   0.0   0.0  0.0   \n",
       "4   85  186  22   40   8   1   6   19.0  2.0  2.0  14   38.0   0.0   1.0  3.0   \n",
       "\n",
       "    SF  GIDP  \n",
       "0  0.0   0.0  \n",
       "1  0.0   0.0  \n",
       "2  1.0  16.0  \n",
       "3  0.0   0.0  \n",
       "4  3.0   3.0  "
      ]
     },
     "execution_count": 3,
     "metadata": {},
     "output_type": "execute_result"
    }
   ],
   "source": [
    "X = df.drop(columns = ['BA', 'playerID', 'yearID', 'teamID', 'lgID'])\n",
    "y = df['BA']\n",
    "X.head()"
   ]
  },
  {
   "cell_type": "markdown",
   "id": "591b523c-cbfa-463e-9915-4f459eec3d7b",
   "metadata": {},
   "source": [
    "## Train Test Split"
   ]
  },
  {
   "cell_type": "code",
   "execution_count": 4,
   "id": "2e27f0c8-0cb9-46c7-8cff-c7135dda7142",
   "metadata": {},
   "outputs": [],
   "source": [
    "X_train, X_test, y_train, y_test = train_test_split(X, y, train_size = 0.3, random_state=42)"
   ]
  },
  {
   "cell_type": "markdown",
   "id": "6d070ab0-85f7-40b8-a00e-015d4ca7ecbf",
   "metadata": {},
   "source": [
    "## Standard Scaler"
   ]
  },
  {
   "cell_type": "code",
   "execution_count": 5,
   "id": "a56d9b03-3868-4d1d-af26-425476a7c6f0",
   "metadata": {},
   "outputs": [],
   "source": [
    "ss = StandardScaler()\n",
    "X_train_sc = ss.fit_transform(X_train)\n",
    "X_test_sc = ss.transform(X_test)"
   ]
  },
  {
   "cell_type": "code",
   "execution_count": 6,
   "id": "f130350a-3fed-4a1a-a366-d7c867b85177",
   "metadata": {},
   "outputs": [],
   "source": [
    "pca = PCA(random_state=42)\n",
    "X_train_p = pca.fit_transform(X_train_sc)\n",
    "X_test_p = pca.transform(X_test_sc)"
   ]
  },
  {
   "cell_type": "code",
   "execution_count": 7,
   "id": "3c6f9ece-6c44-43cb-b353-f444cb055926",
   "metadata": {},
   "outputs": [],
   "source": [
    "def reg_metrics(x, y, model):\n",
    "    y_pred = model.predict(x)\n",
    "    resids = y - y_pred\n",
    "\n",
    "    mse = metrics.mean_squared_error(y, y_pred)\n",
    "    rmse = metrics.mean_squared_error(y, y_pred, squared = False)\n",
    "    score = model.score(x, y)\n",
    "    \n",
    "    print(model)\n",
    "    print(\"R2: \", score)\n",
    "    print(\"MSE: \", mse)\n",
    "    print(\"RMSE: \", rmse)"
   ]
  },
  {
   "cell_type": "code",
   "execution_count": 8,
   "id": "f6015a53-fec3-4473-b572-044153319309",
   "metadata": {},
   "outputs": [],
   "source": [
    "def fit_models(x, y, model):\n",
    "    model.fit(x, y)\n",
    "    \n",
    "    reg_metrics(x, y, model)"
   ]
  },
  {
   "cell_type": "markdown",
   "id": "b6854ef7-b946-4eb1-9f39-d13b10abbf8f",
   "metadata": {},
   "source": [
    "#### Linear Regression"
   ]
  },
  {
   "cell_type": "code",
   "execution_count": 9,
   "id": "fd674b39-a7d9-48fc-9dde-29a598ba3056",
   "metadata": {},
   "outputs": [],
   "source": [
    "lr = LinearRegression()"
   ]
  },
  {
   "cell_type": "markdown",
   "id": "8eedbffd-1b61-4de5-a074-b5ebccf14cf2",
   "metadata": {},
   "source": [
    "#### RidgeCV"
   ]
  },
  {
   "cell_type": "code",
   "execution_count": 10,
   "id": "b4566960-caa4-4d8b-add7-b8ee4a363416",
   "metadata": {},
   "outputs": [],
   "source": [
    "#ridge alphas\n",
    "r_alphas = np.logspace(0, 5, 220)\n",
    "\n",
    "ridge_cv = RidgeCV(r_alphas, scoring='r2', cv=5)"
   ]
  },
  {
   "cell_type": "markdown",
   "id": "1e2a8593-eadc-481d-a582-3c56920881aa",
   "metadata": {},
   "source": [
    "#### LassoCV"
   ]
  },
  {
   "cell_type": "code",
   "execution_count": 11,
   "id": "08dc840e-ee48-442b-b756-ebb0c91d2ccb",
   "metadata": {},
   "outputs": [],
   "source": [
    "# Set up a list of Lasso alphas to check.\n",
    "l_alphas = np.logspace(-3, 1, 100)\n",
    "\n",
    "# Cross-validate over our list of Lasso alphas.\n",
    "lasso_cv = LassoCV(alphas=l_alphas, cv=5, max_iter=50_000, n_jobs=-1)"
   ]
  },
  {
   "cell_type": "markdown",
   "id": "d1e567e9-e26b-4a62-bc89-91587b3d3844",
   "metadata": {},
   "source": [
    "#### ElasticNetCV"
   ]
  },
  {
   "cell_type": "code",
   "execution_count": 12,
   "id": "287d03b5-9808-414b-b9c8-7fa3a47c0c9d",
   "metadata": {},
   "outputs": [],
   "source": [
    "# Set up a list of alphas to check.\n",
    "e_alphas = np.linspace(0.01, 1, 100)\n",
    "\n",
    "# Set up our l1 ratio. (What does this do?)\n",
    "enet_ratio = 0.05\n",
    "\n",
    "# Instantiate model.\n",
    "enet_cv= ElasticNetCV(alphas=e_alphas,\n",
    "                          l1_ratio=enet_ratio, \n",
    "                          cv=5, \n",
    "                          max_iter=3000, \n",
    "                          n_jobs=-1)"
   ]
  },
  {
   "cell_type": "markdown",
   "id": "0c571bec-0501-43df-ac8c-d287083a70ef",
   "metadata": {},
   "source": [
    "#### SGD"
   ]
  },
  {
   "cell_type": "code",
   "execution_count": 13,
   "id": "9a6d4084-98d9-4c67-97b7-ee366037427b",
   "metadata": {},
   "outputs": [],
   "source": [
    "sgd = SGDRegressor()"
   ]
  },
  {
   "cell_type": "markdown",
   "id": "4eb749fe-3490-409c-8aa4-c0bb8e5fea5e",
   "metadata": {},
   "source": [
    "#### KNeighbors"
   ]
  },
  {
   "cell_type": "code",
   "execution_count": 14,
   "id": "b344c338-d6c0-4960-ae99-97fc3df7c412",
   "metadata": {},
   "outputs": [],
   "source": [
    "knn = KNeighborsRegressor()"
   ]
  },
  {
   "cell_type": "markdown",
   "id": "2683de13-5fef-4f07-8a3c-d133fd49e7c2",
   "metadata": {},
   "source": [
    "#### AdaBoost"
   ]
  },
  {
   "cell_type": "code",
   "execution_count": 15,
   "id": "c75ce09e-8d04-4bfd-84e4-70833928a85c",
   "metadata": {},
   "outputs": [],
   "source": [
    "ad = AdaBoostRegressor()"
   ]
  },
  {
   "cell_type": "markdown",
   "id": "1cb4d3c1-76dc-4277-a6ee-06eac8a99f63",
   "metadata": {},
   "source": [
    "#### GradientBoost"
   ]
  },
  {
   "cell_type": "code",
   "execution_count": 16,
   "id": "87b2f41a-127a-4f83-8bf9-f127b0bfa07e",
   "metadata": {},
   "outputs": [],
   "source": [
    "gb = GradientBoostingRegressor()"
   ]
  },
  {
   "cell_type": "markdown",
   "id": "12cd489c-8f82-4112-8569-262510e49589",
   "metadata": {},
   "source": [
    "#### HistGradientBoosting"
   ]
  },
  {
   "cell_type": "code",
   "execution_count": 17,
   "id": "b79630b5-7fa3-49b3-a2ec-7f4b88c169f7",
   "metadata": {},
   "outputs": [],
   "source": [
    "hgb = HistGradientBoostingRegressor()"
   ]
  },
  {
   "cell_type": "markdown",
   "id": "2246438e-929c-4b58-b01a-afe0cde2b011",
   "metadata": {},
   "source": [
    "#### RandomForest"
   ]
  },
  {
   "cell_type": "code",
   "execution_count": 18,
   "id": "4b51ff17-8cfe-4f85-93f3-a456a7bc0df3",
   "metadata": {},
   "outputs": [],
   "source": [
    "rf = RandomForestRegressor()"
   ]
  },
  {
   "cell_type": "markdown",
   "id": "7640418a-3f13-4cfc-8609-b0d67344bb8b",
   "metadata": {},
   "source": [
    "#### SVR"
   ]
  },
  {
   "cell_type": "code",
   "execution_count": 19,
   "id": "b2a84b4f-db98-4a3e-a9b2-401b9de9107e",
   "metadata": {},
   "outputs": [],
   "source": [
    "svr = SVR()"
   ]
  },
  {
   "cell_type": "markdown",
   "id": "8b049007-ca96-494b-b5a4-f42a5cf0c926",
   "metadata": {},
   "source": [
    "#### DecisionTree"
   ]
  },
  {
   "cell_type": "code",
   "execution_count": 20,
   "id": "f0879c88-cfe5-4a8d-bc17-3e07288819bf",
   "metadata": {},
   "outputs": [],
   "source": [
    "dt = DecisionTreeRegressor()"
   ]
  },
  {
   "cell_type": "code",
   "execution_count": 21,
   "id": "485825cd-9cf6-4af8-a6e5-127dd605833a",
   "metadata": {},
   "outputs": [
    {
     "name": "stdout",
     "output_type": "stream",
     "text": [
      "LinearRegression()\n",
      "R2:  0.3111649149805671\n",
      "MSE:  0.013892357951152795\n",
      "RMSE:  0.11786584726354278\n",
      "RidgeCV(alphas=array([1.00000000e+00, 1.05397680e+00, 1.11086709e+00, 1.17082814e+00,\n",
      "       1.23402569e+00, 1.30063444e+00, 1.37083853e+00, 1.44483200e+00,\n",
      "       1.52281940e+00, 1.60501632e+00, 1.69164996e+00, 1.78295980e+00,\n",
      "       1.87919826e+00, 1.98063137e+00, 2.08753951e+00, 2.20021820e+00,\n",
      "       2.31897894e+00, 2.44414999e+00, 2.57607738e+00, 2.71512579e+00,\n",
      "       2.86167958e+00, 3.01614388e+0...\n",
      "       2.98459801e+04, 3.14569705e+04, 3.31549170e+04, 3.49445132e+04,\n",
      "       3.68307062e+04, 3.88187097e+04, 4.09140193e+04, 4.31224271e+04,\n",
      "       4.54500376e+04, 4.79032850e+04, 5.04889509e+04, 5.32141828e+04,\n",
      "       5.60865140e+04, 5.91138844e+04, 6.23046625e+04, 6.56676687e+04,\n",
      "       6.92121991e+04, 7.29480519e+04, 7.68855541e+04, 8.10355901e+04,\n",
      "       8.54096317e+04, 9.00197701e+04, 9.48787490e+04, 1.00000000e+05]),\n",
      "        cv=5, scoring='r2')\n",
      "R2:  0.31097243207306924\n",
      "MSE:  0.01389623992741764\n",
      "RMSE:  0.11788231388727335\n",
      "LassoCV(alphas=array([1.00000000e-03, 1.09749877e-03, 1.20450354e-03, 1.32194115e-03,\n",
      "       1.45082878e-03, 1.59228279e-03, 1.74752840e-03, 1.91791026e-03,\n",
      "       2.10490414e-03, 2.31012970e-03, 2.53536449e-03, 2.78255940e-03,\n",
      "       3.05385551e-03, 3.35160265e-03, 3.67837977e-03, 4.03701726e-03,\n",
      "       4.43062146e-03, 4.86260158e-03, 5.33669923e-03, 5.85702082e-03,\n",
      "       6.42807312e-03, 7.05480231e-0...\n",
      "       1.17681195e+00, 1.29154967e+00, 1.41747416e+00, 1.55567614e+00,\n",
      "       1.70735265e+00, 1.87381742e+00, 2.05651231e+00, 2.25701972e+00,\n",
      "       2.47707636e+00, 2.71858824e+00, 2.98364724e+00, 3.27454916e+00,\n",
      "       3.59381366e+00, 3.94420606e+00, 4.32876128e+00, 4.75081016e+00,\n",
      "       5.21400829e+00, 5.72236766e+00, 6.28029144e+00, 6.89261210e+00,\n",
      "       7.56463328e+00, 8.30217568e+00, 9.11162756e+00, 1.00000000e+01]),\n",
      "        cv=5, max_iter=50000, n_jobs=-1)\n",
      "R2:  0.30658903072895716\n",
      "MSE:  0.01398464393273083\n",
      "RMSE:  0.1182566866301049\n",
      "ElasticNetCV(alphas=array([0.01, 0.02, 0.03, 0.04, 0.05, 0.06, 0.07, 0.08, 0.09, 0.1 , 0.11,\n",
      "       0.12, 0.13, 0.14, 0.15, 0.16, 0.17, 0.18, 0.19, 0.2 , 0.21, 0.22,\n",
      "       0.23, 0.24, 0.25, 0.26, 0.27, 0.28, 0.29, 0.3 , 0.31, 0.32, 0.33,\n",
      "       0.34, 0.35, 0.36, 0.37, 0.38, 0.39, 0.4 , 0.41, 0.42, 0.43, 0.44,\n",
      "       0.45, 0.46, 0.47, 0.48, 0.49, 0.5 , 0.51, 0.52, 0.53, 0.54, 0.55,\n",
      "       0.56, 0.57, 0.58, 0.59, 0.6 , 0.61, 0.62, 0.63, 0.64, 0.65, 0.66,\n",
      "       0.67, 0.68, 0.69, 0.7 , 0.71, 0.72, 0.73, 0.74, 0.75, 0.76, 0.77,\n",
      "       0.78, 0.79, 0.8 , 0.81, 0.82, 0.83, 0.84, 0.85, 0.86, 0.87, 0.88,\n",
      "       0.89, 0.9 , 0.91, 0.92, 0.93, 0.94, 0.95, 0.96, 0.97, 0.98, 0.99,\n",
      "       1.  ]),\n",
      "             cv=5, l1_ratio=0.05, max_iter=3000, n_jobs=-1)\n",
      "R2:  0.3082425778899859\n",
      "MSE:  0.013951295356925526\n",
      "RMSE:  0.1181156016660184\n",
      "SGDRegressor()\n",
      "R2:  0.30622695838413205\n",
      "MSE:  0.013991946172015551\n",
      "RMSE:  0.11828755713098293\n",
      "KNeighborsRegressor()\n",
      "R2:  0.7214673234475355\n",
      "MSE:  0.005617419507094848\n",
      "RMSE:  0.07494944634281729\n",
      "AdaBoostRegressor()\n",
      "R2:  0.7168923620887078\n",
      "MSE:  0.005709686875862415\n",
      "RMSE:  0.07556247002224328\n",
      "GradientBoostingRegressor()\n",
      "R2:  0.9162813510208934\n",
      "MSE:  0.0016884294428351468\n",
      "RMSE:  0.041090503073522314\n",
      "HistGradientBoostingRegressor()\n",
      "R2:  0.9792215912818667\n",
      "MSE:  0.00041905689452435125\n",
      "RMSE:  0.020470879182984576\n",
      "RandomForestRegressor()\n",
      "R2:  0.9685835561727961\n",
      "MSE:  0.0006336037357729651\n",
      "RMSE:  0.025171486562636007\n",
      "SVR()\n",
      "R2:  0.37376570773246187\n",
      "MSE:  0.012629831346674279\n",
      "RMSE:  0.11238252242530543\n",
      "DecisionTreeRegressor()\n",
      "R2:  1.0\n",
      "MSE:  1.72600144381231e-36\n",
      "RMSE:  1.3137737414837876e-18\n"
     ]
    }
   ],
   "source": [
    "models = [lr, ridge_cv, lasso_cv, enet_cv, sgd, knn, ad, gb, hgb, rf, svr, dt]\n",
    "\n",
    "for model in models:\n",
    "    fit_models(X_train_p, y_train, model)"
   ]
  },
  {
   "cell_type": "markdown",
   "id": "a78c8f18-bee2-4da1-87f1-b5a61446fda6",
   "metadata": {},
   "source": [
    "### Test Scores of Best Train Scores"
   ]
  },
  {
   "cell_type": "code",
   "execution_count": 22,
   "id": "e066e401-7d43-499b-a9e1-31460155fe98",
   "metadata": {},
   "outputs": [
    {
     "name": "stdout",
     "output_type": "stream",
     "text": [
      "LinearRegression()\n",
      "R2:  0.3425130880394013\n",
      "MSE:  0.012637098693539474\n",
      "RMSE:  0.112414850858503\n",
      "RidgeCV(alphas=array([1.00000000e+00, 1.05397680e+00, 1.11086709e+00, 1.17082814e+00,\n",
      "       1.23402569e+00, 1.30063444e+00, 1.37083853e+00, 1.44483200e+00,\n",
      "       1.52281940e+00, 1.60501632e+00, 1.69164996e+00, 1.78295980e+00,\n",
      "       1.87919826e+00, 1.98063137e+00, 2.08753951e+00, 2.20021820e+00,\n",
      "       2.31897894e+00, 2.44414999e+00, 2.57607738e+00, 2.71512579e+00,\n",
      "       2.86167958e+00, 3.01614388e+0...\n",
      "       2.98459801e+04, 3.14569705e+04, 3.31549170e+04, 3.49445132e+04,\n",
      "       3.68307062e+04, 3.88187097e+04, 4.09140193e+04, 4.31224271e+04,\n",
      "       4.54500376e+04, 4.79032850e+04, 5.04889509e+04, 5.32141828e+04,\n",
      "       5.60865140e+04, 5.91138844e+04, 6.23046625e+04, 6.56676687e+04,\n",
      "       6.92121991e+04, 7.29480519e+04, 7.68855541e+04, 8.10355901e+04,\n",
      "       8.54096317e+04, 9.00197701e+04, 9.48787490e+04, 1.00000000e+05]),\n",
      "        cv=5, scoring='r2')\n",
      "R2:  0.34221197292108463\n",
      "MSE:  0.0126428862178218\n",
      "RMSE:  0.11244058972551593\n",
      "LassoCV(alphas=array([1.00000000e-03, 1.09749877e-03, 1.20450354e-03, 1.32194115e-03,\n",
      "       1.45082878e-03, 1.59228279e-03, 1.74752840e-03, 1.91791026e-03,\n",
      "       2.10490414e-03, 2.31012970e-03, 2.53536449e-03, 2.78255940e-03,\n",
      "       3.05385551e-03, 3.35160265e-03, 3.67837977e-03, 4.03701726e-03,\n",
      "       4.43062146e-03, 4.86260158e-03, 5.33669923e-03, 5.85702082e-03,\n",
      "       6.42807312e-03, 7.05480231e-0...\n",
      "       1.17681195e+00, 1.29154967e+00, 1.41747416e+00, 1.55567614e+00,\n",
      "       1.70735265e+00, 1.87381742e+00, 2.05651231e+00, 2.25701972e+00,\n",
      "       2.47707636e+00, 2.71858824e+00, 2.98364724e+00, 3.27454916e+00,\n",
      "       3.59381366e+00, 3.94420606e+00, 4.32876128e+00, 4.75081016e+00,\n",
      "       5.21400829e+00, 5.72236766e+00, 6.28029144e+00, 6.89261210e+00,\n",
      "       7.56463328e+00, 8.30217568e+00, 9.11162756e+00, 1.00000000e+01]),\n",
      "        cv=5, max_iter=50000, n_jobs=-1)\n",
      "R2:  0.33708370027885604\n",
      "MSE:  0.012741453179883403\n",
      "RMSE:  0.1128780456062356\n",
      "ElasticNetCV(alphas=array([0.01, 0.02, 0.03, 0.04, 0.05, 0.06, 0.07, 0.08, 0.09, 0.1 , 0.11,\n",
      "       0.12, 0.13, 0.14, 0.15, 0.16, 0.17, 0.18, 0.19, 0.2 , 0.21, 0.22,\n",
      "       0.23, 0.24, 0.25, 0.26, 0.27, 0.28, 0.29, 0.3 , 0.31, 0.32, 0.33,\n",
      "       0.34, 0.35, 0.36, 0.37, 0.38, 0.39, 0.4 , 0.41, 0.42, 0.43, 0.44,\n",
      "       0.45, 0.46, 0.47, 0.48, 0.49, 0.5 , 0.51, 0.52, 0.53, 0.54, 0.55,\n",
      "       0.56, 0.57, 0.58, 0.59, 0.6 , 0.61, 0.62, 0.63, 0.64, 0.65, 0.66,\n",
      "       0.67, 0.68, 0.69, 0.7 , 0.71, 0.72, 0.73, 0.74, 0.75, 0.76, 0.77,\n",
      "       0.78, 0.79, 0.8 , 0.81, 0.82, 0.83, 0.84, 0.85, 0.86, 0.87, 0.88,\n",
      "       0.89, 0.9 , 0.91, 0.92, 0.93, 0.94, 0.95, 0.96, 0.97, 0.98, 0.99,\n",
      "       1.  ]),\n",
      "             cv=5, l1_ratio=0.05, max_iter=3000, n_jobs=-1)\n",
      "R2:  0.3389437416361559\n",
      "MSE:  0.012705702618497822\n",
      "RMSE:  0.11271957513448062\n",
      "SGDRegressor()\n",
      "R2:  0.33801637804257\n",
      "MSE:  0.012723526829206435\n",
      "RMSE:  0.11279861182304698\n",
      "KNeighborsRegressor()\n",
      "R2:  0.6555162093340022\n",
      "MSE:  0.006621083373339734\n",
      "RMSE:  0.08137003977717926\n",
      "AdaBoostRegressor()\n",
      "R2:  0.6380719398425201\n",
      "MSE:  0.006956367545831018\n",
      "RMSE:  0.08340484126135016\n",
      "GradientBoostingRegressor()\n",
      "R2:  0.8196038150759128\n",
      "MSE:  0.003467269616098915\n",
      "RMSE:  0.05888352584635974\n",
      "HistGradientBoostingRegressor()\n",
      "R2:  0.8704367854757394\n",
      "MSE:  0.0024902444432132313\n",
      "RMSE:  0.04990234907510098\n",
      "RandomForestRegressor()\n",
      "R2:  0.8321588767698112\n",
      "MSE:  0.0032259575065450474\n",
      "RMSE:  0.056797513207402374\n",
      "SVR()\n",
      "R2:  0.40207472447204073\n",
      "MSE:  0.011492305901081442\n",
      "RMSE:  0.1072021730240644\n",
      "DecisionTreeRegressor()\n",
      "R2:  0.6066558213621464\n",
      "MSE:  0.007560194911185789\n",
      "RMSE:  0.08694938131571604\n"
     ]
    }
   ],
   "source": [
    "for model in models:\n",
    "    reg_metrics(X_test_p, y_test, model)"
   ]
  },
  {
   "cell_type": "markdown",
   "id": "85aa16b9-8255-4c06-924a-796da89e736b",
   "metadata": {},
   "source": [
    "Random Forest Regressor is the best model with a test R2 score of 0.996 and with a train R2 score of 0.999. This model has a good balance between bias and variance. Test RMSE is 0.008 which means when predicting batting average the prediction is off by 0.008."
   ]
  },
  {
   "cell_type": "code",
   "execution_count": null,
   "id": "8683eae1-167d-462c-b15a-77ff72cda73e",
   "metadata": {},
   "outputs": [],
   "source": []
  },
  {
   "cell_type": "markdown",
   "id": "f15a2293-eb2e-4c1f-a5fc-38f7ee29d614",
   "metadata": {},
   "source": [
    "## Create X and y variables for Strike Outs"
   ]
  },
  {
   "cell_type": "code",
   "execution_count": 76,
   "id": "810fb850-96ed-44de-a17f-b011aa69c999",
   "metadata": {},
   "outputs": [
    {
     "data": {
      "text/html": [
       "<div>\n",
       "<style scoped>\n",
       "    .dataframe tbody tr th:only-of-type {\n",
       "        vertical-align: middle;\n",
       "    }\n",
       "\n",
       "    .dataframe tbody tr th {\n",
       "        vertical-align: top;\n",
       "    }\n",
       "\n",
       "    .dataframe thead th {\n",
       "        text-align: right;\n",
       "    }\n",
       "</style>\n",
       "<table border=\"1\" class=\"dataframe\">\n",
       "  <thead>\n",
       "    <tr style=\"text-align: right;\">\n",
       "      <th></th>\n",
       "      <th>AB</th>\n",
       "      <th>R</th>\n",
       "      <th>H</th>\n",
       "      <th>HR</th>\n",
       "      <th>RBI</th>\n",
       "      <th>BB</th>\n",
       "      <th>BA</th>\n",
       "    </tr>\n",
       "  </thead>\n",
       "  <tbody>\n",
       "    <tr>\n",
       "      <th>0</th>\n",
       "      <td>0</td>\n",
       "      <td>0</td>\n",
       "      <td>0</td>\n",
       "      <td>0</td>\n",
       "      <td>0.0</td>\n",
       "      <td>0</td>\n",
       "      <td>0.000</td>\n",
       "    </tr>\n",
       "    <tr>\n",
       "      <th>1</th>\n",
       "      <td>1</td>\n",
       "      <td>0</td>\n",
       "      <td>0</td>\n",
       "      <td>0</td>\n",
       "      <td>0.0</td>\n",
       "      <td>0</td>\n",
       "      <td>0.000</td>\n",
       "    </tr>\n",
       "    <tr>\n",
       "      <th>2</th>\n",
       "      <td>573</td>\n",
       "      <td>88</td>\n",
       "      <td>146</td>\n",
       "      <td>20</td>\n",
       "      <td>78.0</td>\n",
       "      <td>87</td>\n",
       "      <td>0.255</td>\n",
       "    </tr>\n",
       "    <tr>\n",
       "      <th>3</th>\n",
       "      <td>193</td>\n",
       "      <td>16</td>\n",
       "      <td>45</td>\n",
       "      <td>1</td>\n",
       "      <td>13.0</td>\n",
       "      <td>4</td>\n",
       "      <td>0.233</td>\n",
       "    </tr>\n",
       "    <tr>\n",
       "      <th>4</th>\n",
       "      <td>0</td>\n",
       "      <td>0</td>\n",
       "      <td>0</td>\n",
       "      <td>0</td>\n",
       "      <td>0.0</td>\n",
       "      <td>0</td>\n",
       "      <td>0.000</td>\n",
       "    </tr>\n",
       "  </tbody>\n",
       "</table>\n",
       "</div>"
      ],
      "text/plain": [
       "    AB   R    H  HR   RBI  BB     BA\n",
       "0    0   0    0   0   0.0   0  0.000\n",
       "1    1   0    0   0   0.0   0  0.000\n",
       "2  573  88  146  20  78.0  87  0.255\n",
       "3  193  16   45   1  13.0   4  0.233\n",
       "4    0   0    0   0   0.0   0  0.000"
      ]
     },
     "execution_count": 76,
     "metadata": {},
     "output_type": "execute_result"
    }
   ],
   "source": [
    "X = df.drop(columns = ['SO', 'playerID', 'yearID', 'teamID', 'lgID'])\n",
    "y = df['SO']\n",
    "X.head()"
   ]
  },
  {
   "cell_type": "code",
   "execution_count": 77,
   "id": "ab5b2444-a02e-4c2f-9067-a75b91093a20",
   "metadata": {},
   "outputs": [],
   "source": [
    "X_train, X_test, y_train, y_test = train_test_split(X, y, train_size = 0.3, random_state=42)"
   ]
  },
  {
   "cell_type": "code",
   "execution_count": 78,
   "id": "fd1e980d-0344-4626-a826-bdb1abd75ee2",
   "metadata": {},
   "outputs": [],
   "source": [
    "ss = StandardScaler()\n",
    "X_train_sc = ss.fit_transform(X_train)\n",
    "X_test_sc = ss.transform(X_test)"
   ]
  },
  {
   "cell_type": "code",
   "execution_count": 91,
   "id": "a6fb6eaf-57cc-4624-a2c1-e91aee03ad55",
   "metadata": {},
   "outputs": [
    {
     "name": "stdout",
     "output_type": "stream",
     "text": [
      "LinearRegression()\n",
      "R2:  0.9246755450881237\n",
      "MSE:  109.87387174256283\n",
      "RMSE:  10.4820738283301\n",
      "RidgeCV(alphas=array([1.00000000e+00, 1.05397680e+00, 1.11086709e+00, 1.17082814e+00,\n",
      "       1.23402569e+00, 1.30063444e+00, 1.37083853e+00, 1.44483200e+00,\n",
      "       1.52281940e+00, 1.60501632e+00, 1.69164996e+00, 1.78295980e+00,\n",
      "       1.87919826e+00, 1.98063137e+00, 2.08753951e+00, 2.20021820e+00,\n",
      "       2.31897894e+00, 2.44414999e+00, 2.57607738e+00, 2.71512579e+00,\n",
      "       2.86167958e+00, 3.01614388e+0...\n",
      "       2.98459801e+04, 3.14569705e+04, 3.31549170e+04, 3.49445132e+04,\n",
      "       3.68307062e+04, 3.88187097e+04, 4.09140193e+04, 4.31224271e+04,\n",
      "       4.54500376e+04, 4.79032850e+04, 5.04889509e+04, 5.32141828e+04,\n",
      "       5.60865140e+04, 5.91138844e+04, 6.23046625e+04, 6.56676687e+04,\n",
      "       6.92121991e+04, 7.29480519e+04, 7.68855541e+04, 8.10355901e+04,\n",
      "       8.54096317e+04, 9.00197701e+04, 9.48787490e+04, 1.00000000e+05]),\n",
      "        cv=5, scoring='r2')\n",
      "R2:  0.9246484732540833\n",
      "MSE:  109.91336074018885\n",
      "RMSE:  10.483957303432176\n",
      "LassoCV(alphas=array([1.00000000e-03, 1.09749877e-03, 1.20450354e-03, 1.32194115e-03,\n",
      "       1.45082878e-03, 1.59228279e-03, 1.74752840e-03, 1.91791026e-03,\n",
      "       2.10490414e-03, 2.31012970e-03, 2.53536449e-03, 2.78255940e-03,\n",
      "       3.05385551e-03, 3.35160265e-03, 3.67837977e-03, 4.03701726e-03,\n",
      "       4.43062146e-03, 4.86260158e-03, 5.33669923e-03, 5.85702082e-03,\n",
      "       6.42807312e-03, 7.05480231e-0...\n",
      "       1.17681195e+00, 1.29154967e+00, 1.41747416e+00, 1.55567614e+00,\n",
      "       1.70735265e+00, 1.87381742e+00, 2.05651231e+00, 2.25701972e+00,\n",
      "       2.47707636e+00, 2.71858824e+00, 2.98364724e+00, 3.27454916e+00,\n",
      "       3.59381366e+00, 3.94420606e+00, 4.32876128e+00, 4.75081016e+00,\n",
      "       5.21400829e+00, 5.72236766e+00, 6.28029144e+00, 6.89261210e+00,\n",
      "       7.56463328e+00, 8.30217568e+00, 9.11162756e+00, 1.00000000e+01]),\n",
      "        cv=5, max_iter=50000, n_jobs=-1)\n",
      "R2:  0.9246747479943682\n",
      "MSE:  109.87503444300528\n",
      "RMSE:  10.48212928955779\n",
      "ElasticNetCV(alphas=array([0.01, 0.02, 0.03, 0.04, 0.05, 0.06, 0.07, 0.08, 0.09, 0.1 , 0.11,\n",
      "       0.12, 0.13, 0.14, 0.15, 0.16, 0.17, 0.18, 0.19, 0.2 , 0.21, 0.22,\n",
      "       0.23, 0.24, 0.25, 0.26, 0.27, 0.28, 0.29, 0.3 , 0.31, 0.32, 0.33,\n",
      "       0.34, 0.35, 0.36, 0.37, 0.38, 0.39, 0.4 , 0.41, 0.42, 0.43, 0.44,\n",
      "       0.45, 0.46, 0.47, 0.48, 0.49, 0.5 , 0.51, 0.52, 0.53, 0.54, 0.55,\n",
      "       0.56, 0.57, 0.58, 0.59, 0.6 , 0.61, 0.62, 0.63, 0.64, 0.65, 0.66,\n",
      "       0.67, 0.68, 0.69, 0.7 , 0.71, 0.72, 0.73, 0.74, 0.75, 0.76, 0.77,\n",
      "       0.78, 0.79, 0.8 , 0.81, 0.82, 0.83, 0.84, 0.85, 0.86, 0.87, 0.88,\n",
      "       0.89, 0.9 , 0.91, 0.92, 0.93, 0.94, 0.95, 0.96, 0.97, 0.98, 0.99,\n",
      "       1.  ]),\n",
      "             cv=5, l1_ratio=0.05, max_iter=3000, n_jobs=-1)\n",
      "R2:  0.9120182442154332\n",
      "MSE:  128.33675546764314\n",
      "RMSE:  11.328581352828039\n",
      "SGDRegressor()\n",
      "R2:  0.9216193839754844\n",
      "MSE:  114.3318164367208\n",
      "RMSE:  10.692605689761537\n",
      "KNeighborsRegressor()\n",
      "R2:  0.9335611961926545\n",
      "MSE:  96.91259786476868\n",
      "RMSE:  9.844419630672428\n",
      "AdaBoostRegressor()\n",
      "R2:  0.9078072661520235\n",
      "MSE:  134.47920235545823\n",
      "RMSE:  11.596516819953232\n",
      "GradientBoostingRegressor()\n",
      "R2:  0.9503723608643732\n",
      "MSE:  72.3905783805987\n",
      "RMSE:  8.508265297967542\n",
      "HistGradientBoostingRegressor()\n",
      "R2:  0.976771286171153\n",
      "MSE:  33.883135655761905\n",
      "RMSE:  5.820922234127673\n",
      "RandomForestRegressor()\n",
      "R2:  0.9882094787975141\n",
      "MSE:  17.198534206394193\n",
      "RMSE:  4.147111549789105\n",
      "SVR()\n",
      "R2:  0.8860637037234544\n",
      "MSE:  166.19598533514258\n",
      "RMSE:  12.891702189204596\n",
      "DecisionTreeRegressor()\n",
      "R2:  0.9999104588200953\n",
      "MSE:  0.1306114478762402\n",
      "RMSE:  0.36140205848367857\n"
     ]
    }
   ],
   "source": [
    "models = [lr, ridge_cv, lasso_cv, enet_cv, sgd, knn, ad, gb, hgb, rf, svr, dt]\n",
    "\n",
    "for model in models:\n",
    "    fit_models(X_train_sc, y_train, model)"
   ]
  },
  {
   "cell_type": "code",
   "execution_count": 92,
   "id": "9fb2a3d7-be49-4085-bd6f-06e92cd36cd1",
   "metadata": {},
   "outputs": [
    {
     "name": "stdout",
     "output_type": "stream",
     "text": [
      "LinearRegression()\n",
      "R2:  0.9260277998688496\n",
      "MSE:  107.5311995018297\n",
      "RMSE:  10.36972514109365\n",
      "RidgeCV(alphas=array([1.00000000e+00, 1.05397680e+00, 1.11086709e+00, 1.17082814e+00,\n",
      "       1.23402569e+00, 1.30063444e+00, 1.37083853e+00, 1.44483200e+00,\n",
      "       1.52281940e+00, 1.60501632e+00, 1.69164996e+00, 1.78295980e+00,\n",
      "       1.87919826e+00, 1.98063137e+00, 2.08753951e+00, 2.20021820e+00,\n",
      "       2.31897894e+00, 2.44414999e+00, 2.57607738e+00, 2.71512579e+00,\n",
      "       2.86167958e+00, 3.01614388e+0...\n",
      "       2.98459801e+04, 3.14569705e+04, 3.31549170e+04, 3.49445132e+04,\n",
      "       3.68307062e+04, 3.88187097e+04, 4.09140193e+04, 4.31224271e+04,\n",
      "       4.54500376e+04, 4.79032850e+04, 5.04889509e+04, 5.32141828e+04,\n",
      "       5.60865140e+04, 5.91138844e+04, 6.23046625e+04, 6.56676687e+04,\n",
      "       6.92121991e+04, 7.29480519e+04, 7.68855541e+04, 8.10355901e+04,\n",
      "       8.54096317e+04, 9.00197701e+04, 9.48787490e+04, 1.00000000e+05]),\n",
      "        cv=5, scoring='r2')\n",
      "R2:  0.9261053041827414\n",
      "MSE:  107.41853377302117\n",
      "RMSE:  10.364291281752996\n",
      "LassoCV(alphas=array([1.00000000e-03, 1.09749877e-03, 1.20450354e-03, 1.32194115e-03,\n",
      "       1.45082878e-03, 1.59228279e-03, 1.74752840e-03, 1.91791026e-03,\n",
      "       2.10490414e-03, 2.31012970e-03, 2.53536449e-03, 2.78255940e-03,\n",
      "       3.05385551e-03, 3.35160265e-03, 3.67837977e-03, 4.03701726e-03,\n",
      "       4.43062146e-03, 4.86260158e-03, 5.33669923e-03, 5.85702082e-03,\n",
      "       6.42807312e-03, 7.05480231e-0...\n",
      "       1.17681195e+00, 1.29154967e+00, 1.41747416e+00, 1.55567614e+00,\n",
      "       1.70735265e+00, 1.87381742e+00, 2.05651231e+00, 2.25701972e+00,\n",
      "       2.47707636e+00, 2.71858824e+00, 2.98364724e+00, 3.27454916e+00,\n",
      "       3.59381366e+00, 3.94420606e+00, 4.32876128e+00, 4.75081016e+00,\n",
      "       5.21400829e+00, 5.72236766e+00, 6.28029144e+00, 6.89261210e+00,\n",
      "       7.56463328e+00, 8.30217568e+00, 9.11162756e+00, 1.00000000e+01]),\n",
      "        cv=5, max_iter=50000, n_jobs=-1)\n",
      "R2:  0.9260463369790854\n",
      "MSE:  107.50425265294028\n",
      "RMSE:  10.368425755771234\n",
      "ElasticNetCV(alphas=array([0.01, 0.02, 0.03, 0.04, 0.05, 0.06, 0.07, 0.08, 0.09, 0.1 , 0.11,\n",
      "       0.12, 0.13, 0.14, 0.15, 0.16, 0.17, 0.18, 0.19, 0.2 , 0.21, 0.22,\n",
      "       0.23, 0.24, 0.25, 0.26, 0.27, 0.28, 0.29, 0.3 , 0.31, 0.32, 0.33,\n",
      "       0.34, 0.35, 0.36, 0.37, 0.38, 0.39, 0.4 , 0.41, 0.42, 0.43, 0.44,\n",
      "       0.45, 0.46, 0.47, 0.48, 0.49, 0.5 , 0.51, 0.52, 0.53, 0.54, 0.55,\n",
      "       0.56, 0.57, 0.58, 0.59, 0.6 , 0.61, 0.62, 0.63, 0.64, 0.65, 0.66,\n",
      "       0.67, 0.68, 0.69, 0.7 , 0.71, 0.72, 0.73, 0.74, 0.75, 0.76, 0.77,\n",
      "       0.78, 0.79, 0.8 , 0.81, 0.82, 0.83, 0.84, 0.85, 0.86, 0.87, 0.88,\n",
      "       0.89, 0.9 , 0.91, 0.92, 0.93, 0.94, 0.95, 0.96, 0.97, 0.98, 0.99,\n",
      "       1.  ]),\n",
      "             cv=5, l1_ratio=0.05, max_iter=3000, n_jobs=-1)\n",
      "R2:  0.9151613124175031\n",
      "MSE:  123.32749091864827\n",
      "RMSE:  11.105291122642768\n",
      "KNeighborsRegressor()\n",
      "R2:  0.9063614029094927\n",
      "MSE:  136.11965910110342\n",
      "RMSE:  11.66703300334337\n",
      "AdaBoostRegressor()\n",
      "R2:  0.894648469214057\n",
      "MSE:  153.1464043881508\n",
      "RMSE:  12.375233508429277\n",
      "GradientBoostingRegressor()\n",
      "R2:  0.9230086845900949\n",
      "MSE:  111.91999808809871\n",
      "RMSE:  10.57922483398943\n",
      "HistGradientBoostingRegressor()\n",
      "R2:  0.9182464724945345\n",
      "MSE:  118.84268496248947\n",
      "RMSE:  10.901499207104015\n",
      "RandomForestRegressor()\n",
      "R2:  0.9216706226224146\n",
      "MSE:  113.86509919550573\n",
      "RMSE:  10.67075907307\n",
      "DecisionTreeRegressor()\n",
      "R2:  0.8524555105714265\n",
      "MSE:  214.48106045257893\n",
      "RMSE:  14.645171916115526\n"
     ]
    }
   ],
   "source": [
    "#models with r2 > 90\n",
    "best_models = [lr, ridge_cv, lasso_cv, enet_cv, knn, ad, gb, hgb, rf, dt]\n",
    "\n",
    "for model in best_models:\n",
    "    reg_metrics(X_test_sc, y_test, model)"
   ]
  },
  {
   "cell_type": "code",
   "execution_count": null,
   "id": "289f05c0-b5c8-4c7d-86d3-12ccdeea2e60",
   "metadata": {},
   "outputs": [],
   "source": []
  },
  {
   "cell_type": "code",
   "execution_count": null,
   "id": "98499c28-94d3-4a1f-9ac9-178bb66cf09b",
   "metadata": {},
   "outputs": [],
   "source": []
  },
  {
   "cell_type": "code",
   "execution_count": null,
   "id": "2e4b5f63-556b-48d5-b840-6a4c1424c272",
   "metadata": {},
   "outputs": [],
   "source": []
  },
  {
   "cell_type": "code",
   "execution_count": null,
   "id": "f5647e2b-bddf-4fa3-9088-a3168dce9fe7",
   "metadata": {},
   "outputs": [],
   "source": []
  },
  {
   "cell_type": "code",
   "execution_count": null,
   "id": "b2b9fc69-5c9c-4b54-9f38-80c8ae0ab096",
   "metadata": {},
   "outputs": [],
   "source": []
  }
 ],
 "metadata": {
  "kernelspec": {
   "display_name": "Python [conda env:dsi] *",
   "language": "python",
   "name": "conda-env-dsi-py"
  },
  "language_info": {
   "codemirror_mode": {
    "name": "ipython",
    "version": 3
   },
   "file_extension": ".py",
   "mimetype": "text/x-python",
   "name": "python",
   "nbconvert_exporter": "python",
   "pygments_lexer": "ipython3",
   "version": "3.8.8"
  }
 },
 "nbformat": 4,
 "nbformat_minor": 5
}
